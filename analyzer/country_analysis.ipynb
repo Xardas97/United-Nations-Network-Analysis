{
 "cells": [
  {
   "cell_type": "code",
   "execution_count": null,
   "id": "b3cd7f01-7564-40d3-a3dd-2e88bfbe7d4a",
   "metadata": {},
   "outputs": [],
   "source": [
    "import math\n",
    "import powerlaw\n",
    "import statistics\n",
    "\n",
    "import networkx as nx\n",
    "import matplotlib.pyplot as plt\n",
    "\n",
    "from collections import Counter"
   ]
  },
  {
   "cell_type": "code",
   "execution_count": null,
   "id": "01f2276b-57ec-410c-bbeb-826320350373",
   "metadata": {},
   "outputs": [],
   "source": [
    "def load_graph(name):\n",
    "    graph_path = \"../graphs/{}.gml\".format(name)\n",
    "    return nx.read_gml(graph_path)"
   ]
  },
  {
   "cell_type": "code",
   "execution_count": null,
   "id": "7a2f3fbd-6b8d-4ac7-ac44-060797848030",
   "metadata": {},
   "outputs": [],
   "source": [
    "# Load the chosen graph\n",
    "\n",
    "name = \"General Assembly/russia/net_ga_2014_2021\"\n",
    "target_country = \"RUSSIAN FEDERATION\"\n",
    "\n",
    "fname = f'{name}_filled'\n",
    "cname = f'{name}_cutoff'\n",
    "\n",
    "net = load_graph(name)\n",
    "fnet = load_graph(fname)\n",
    "cnet = load_graph(cname)"
   ]
  },
  {
   "cell_type": "markdown",
   "id": "245cc9be-1db7-4e76-9196-00724efbea9b",
   "metadata": {
    "jp-MarkdownHeadingCollapsed": true,
    "tags": []
   },
   "source": [
    "## Basic Characteristics"
   ]
  },
  {
   "cell_type": "code",
   "execution_count": null,
   "id": "85f1311f-1a59-4857-8768-5f521dbf20b4",
   "metadata": {},
   "outputs": [],
   "source": [
    "def weighted_density(net):\n",
    "    if net.number_of_nodes() < 2:\n",
    "        return 1\n",
    "\n",
    "    weights = (edge[2]['weight'] for edge in net.edges(data=True))\n",
    "    possible_edges = (net.number_of_nodes() * (net.number_of_nodes() - 1)) / 2\n",
    "    return sum(weights) / possible_edges"
   ]
  },
  {
   "cell_type": "code",
   "execution_count": null,
   "id": "9f07ede5-7cdc-4adc-869d-45cfb5d3e5bf",
   "metadata": {
    "tags": []
   },
   "outputs": [],
   "source": [
    "# Rich club check\n",
    "def calculate_target_rich_club(net):\n",
    "    net_degrees = nx.degree(net, weight='weight')\n",
    "    target_degree = net_degrees[target_country]\n",
    "\n",
    "    rich_club_net = nx.subgraph(net, [x for x in net.nodes() if net_degrees[x] >= target_degree])\n",
    "\n",
    "    total_size = net.number_of_nodes()\n",
    "    rich_club_size = rich_club_net.number_of_nodes()\n",
    "    percentage = round((rich_club_size * 100) / total_size)\n",
    "\n",
    "    print(f'Target degree: {target_degree}')\n",
    "    print(f'Weighted density: {weighted_density(net)}')\n",
    "    print(f'Rich Club of {rich_club_size} ({percentage}%) nodes - Weighted density: {weighted_density(rich_club_net)}')"
   ]
  },
  {
   "cell_type": "code",
   "execution_count": null,
   "id": "cbafb865-8abf-4eef-8dca-258a04717113",
   "metadata": {},
   "outputs": [],
   "source": [
    "calculate_target_rich_club(fnet)"
   ]
  },
  {
   "cell_type": "code",
   "execution_count": null,
   "id": "4255837f-1089-4f83-9406-4cf695306e73",
   "metadata": {},
   "outputs": [],
   "source": [
    "calculate_target_rich_club(cnet)"
   ]
  },
  {
   "cell_type": "code",
   "execution_count": null,
   "id": "eb7ed1bf-bfb1-4877-b08e-2a1979ca9c88",
   "metadata": {},
   "outputs": [],
   "source": [
    "cutoff_is_connected = nx.is_connected(cnet)\n",
    "print(f'Cutoff is connected: {cutoff_is_connected}')\n",
    "if not cutoff_is_connected:\n",
    "    component = nx.node_connected_component(cnet, target_country)\n",
    "    print(f'Target component node count: {len(component)}')"
   ]
  },
  {
   "cell_type": "code",
   "execution_count": null,
   "id": "8f05fc0b-6b35-4901-9b0e-44028e5050cc",
   "metadata": {},
   "outputs": [],
   "source": [
    "print(f'Average clustering: {nx.average_clustering(fnet, weight=\"weight\")}')\n",
    "print(f'Target clustering: {nx.clustering(fnet, nodes=target_country, weight=\"weight\")}')"
   ]
  },
  {
   "cell_type": "markdown",
   "id": "01e77842-45a1-4592-9b58-9eeb67f28059",
   "metadata": {
    "jp-MarkdownHeadingCollapsed": true,
    "tags": []
   },
   "source": [
    "## Least and most friendly countries"
   ]
  },
  {
   "cell_type": "code",
   "execution_count": null,
   "id": "ebb7091f-6339-47f8-b88d-fd76252b474d",
   "metadata": {},
   "outputs": [],
   "source": [
    "# Average agreement for every country\n",
    "avg_agreements = {}\n",
    "for country_1 in net:\n",
    "    agreements = (net[country_1][country_2]['agreement'] for country_2 in net[country_1])\n",
    "    avg_agreements[country_1] = statistics.mean(agreements)"
   ]
  },
  {
   "cell_type": "code",
   "execution_count": null,
   "id": "676002b3-9b90-449b-90a8-930561fa59e4",
   "metadata": {},
   "outputs": [],
   "source": [
    "def find_placement():\n",
    "    print(f'Target average agreement:')\n",
    "    placement = 1\n",
    "    for k, v in sorted(avg_agreements.items(), key=lambda item: -item[1]):\n",
    "        if k == target_country:\n",
    "            print(f'{placement}. {k} - {round(v * 100, 1)}%')\n",
    "            return placement\n",
    "\n",
    "        placement += 1\n",
    "    return -1\n",
    "\n",
    "placement = find_placement()\n",
    "top_perc = round((placement * 100) / net.number_of_nodes())\n",
    "print(f'Target is in top {top_perc}% countries')"
   ]
  },
  {
   "cell_type": "code",
   "execution_count": null,
   "id": "d556b8a9-b2ee-43a7-9f7a-22d305aa0fad",
   "metadata": {},
   "outputs": [],
   "source": [
    "agreements = [ edge[2]['agreement'] for edge in net.edges(data=True) ]\n",
    "\n",
    "print(f'Median agreement: {statistics.median(agreements)}')\n",
    "print(f'Average agreement: {statistics.fmean(agreements)}')"
   ]
  },
  {
   "cell_type": "code",
   "execution_count": null,
   "id": "2bcd44ef-e430-48cc-ad91-2943d044cf55",
   "metadata": {},
   "outputs": [],
   "source": [
    "def count_relationship_levels(net):\n",
    "    bad_threshold = 0.5\n",
    "    good_threshold = 0.787\n",
    "    great_threshhold = 0.95\n",
    "\n",
    "    agreements = [ net[target_country][edge]['agreement'] for edge in net[target_country] ]\n",
    "    \n",
    "    total = len(agreements)\n",
    "    def to_percentage(val):\n",
    "        perc = val * 100 / total\n",
    "        return f'{round(perc)}%'\n",
    "    \n",
    "    abysmal = len(list(filter(lambda x: x < bad_threshold, agreements)))\n",
    "    bad = len(list(filter(lambda x: x >= bad_threshold and x < good_threshold, agreements)))\n",
    "    good = len(list(filter(lambda x: x >= good_threshold and x < great_threshhold, agreements)))\n",
    "    great = len(list(filter(lambda x: x >= great_threshhold, agreements)))\n",
    "    \n",
    "    print(f'Abysmal: {abysmal} ({to_percentage(abysmal)})')\n",
    "    print(f'Bad: {bad} ({to_percentage(bad)})')\n",
    "    print(f'Good: {good} ({to_percentage(good)})')\n",
    "    print(f'Great: {great} ({to_percentage(great)})')\n",
    "    \n",
    "count_relationship_levels(net)"
   ]
  },
  {
   "cell_type": "code",
   "execution_count": null,
   "id": "4c6107df-af9e-4a37-8baa-cd0bb36389bb",
   "metadata": {},
   "outputs": [],
   "source": [
    "def friendly_edge_to_string(edge, country_buffer_1, country_buffer_2):\n",
    "    country1 = edge[0].ljust(country_buffer_1)\n",
    "    country2 = edge[1].ljust(country_buffer_2)\n",
    "    \n",
    "    total = str(edge[2]['total']).ljust(5)\n",
    "    points = str(edge[2]['points']).rjust(6)\n",
    "    agreement = round(edge[2]['agreement'] * 100, 1)\n",
    "    \n",
    "    return '{}, {} - {}/{} ({}%)'.format(country1, country2, points, total, agreement)\n",
    "\n",
    "def edge_country_1_length(edge):\n",
    "    return len(edge[0])\n",
    "\n",
    "def edge_country_2_length(edge):\n",
    "    return len(edge[1])\n",
    "\n",
    "def edge_country_2_length(edge):\n",
    "    return len(edge[1])\n",
    "\n",
    "def friendly_edge_print(edges):\n",
    "    max_cnt_1_length = max(map(edge_country_1_length, edges))\n",
    "    max_cnt_2_length = max(map(edge_country_2_length, edges))\n",
    "    for edge_str in map(lambda e: friendly_edge_to_string(e, max_cnt_1_length, max_cnt_2_length), edges):\n",
    "        print(edge_str)"
   ]
  },
  {
   "cell_type": "code",
   "execution_count": null,
   "id": "0d9f424b-0b69-409c-9f66-5cf85c32ff13",
   "metadata": {},
   "outputs": [],
   "source": [
    "# Sort edges by agreement\n",
    "def has_significant_total(edge):\n",
    "    return edge[2]['total'] > 75\n",
    "\n",
    "edges = [ (target_country, edge, net[target_country][edge]) for edge in net[target_country] ]\n",
    "sorted_edges = sorted(edges, key=lambda edge: edge[2]['agreement'])\n",
    "sorted_edges =  list(__builtin__.filter(has_significant_total, sorted_edges))"
   ]
  },
  {
   "cell_type": "code",
   "execution_count": null,
   "id": "0c99e5b8-8d02-4914-9cff-a99ab48ca522",
   "metadata": {},
   "outputs": [],
   "source": [
    "# Show countries with the most agreement\n",
    "most_agreement_countries = sorted_edges[-10:]\n",
    "most_agreement_countries.reverse()\n",
    "friendly_edge_print(most_agreement_countries)"
   ]
  },
  {
   "cell_type": "code",
   "execution_count": null,
   "id": "f545366e-a3c6-473f-b583-ed1ac38c539e",
   "metadata": {},
   "outputs": [],
   "source": [
    "# Show countries with the least agreement\n",
    "least_agreement_countries = sorted_edges[:10]\n",
    "friendly_edge_print(least_agreement_countries)"
   ]
  },
  {
   "cell_type": "markdown",
   "id": "ee158d25-5d76-448d-8983-fa4fb1049f02",
   "metadata": {
    "jp-MarkdownHeadingCollapsed": true,
    "tags": []
   },
   "source": [
    "## In-group agreements"
   ]
  },
  {
   "cell_type": "code",
   "execution_count": null,
   "id": "92df1d62-0acc-493f-88a9-5df2d7e6e8b7",
   "metadata": {},
   "outputs": [],
   "source": [
    "global_actors = ['USSR', 'RUSSIAN FEDERATION', 'UNITED STATES', 'CHINA', 'GERMANY', 'GERMANY, FEDERAL REPUBLIC OF','FRANCE', 'UNITED KINGDOM', 'INDIA']\n",
    "if target_country in global_actors:\n",
    "    global_actors.remove(target_country)\n",
    "\n",
    "russia_neighbours = ['FINLAND', 'ESTONIA', 'LATVIA', 'BELARUS', 'UKRAINE', 'GEORGIA', 'AZERBAIJAN', 'KAZAKHSTAN', 'MONGOLIA', 'CHINA', \"DEMOCRATIC PEOPLE'S REPUBLIC OF KOREA\"]\n",
    "yugoslavia_neighbours = ['HUNGARY', 'ROMANIA', 'BULGARIA', 'ALBANIA', 'GREECE', 'ITALY', 'AUSTRIA']\n",
    "serbia_neighbours = ['HUNGARY', 'ROMANIA', 'BULGARIA', 'ALBANIA', 'NORTH MACEDONIA', 'MONTENEGRO', 'BOSNIA AND HERZEGOVINA', 'CROATIA']\n",
    "\n",
    "neighbours = russia_neighbours"
   ]
  },
  {
   "cell_type": "code",
   "execution_count": null,
   "id": "4209053d-7fbb-4859-bafa-3b5eb04379dd",
   "metadata": {},
   "outputs": [],
   "source": [
    "def print_ingroup_agreements(country_group):\n",
    "    ingroup_agreements = {}\n",
    "    for country in country_group:\n",
    "        if country in net:\n",
    "            agreement = net[target_country][country]['agreement']\n",
    "            ingroup_agreements[country] = agreement\n",
    "\n",
    "    for k, v in sorted(ingroup_agreements.items(), key=lambda item: -item[1]):\n",
    "        print(f'{k}: {round(v * 100, 1)}%')"
   ]
  },
  {
   "cell_type": "code",
   "execution_count": null,
   "id": "fec4892f-77e9-4d5d-9c5e-bfdb324c1d9c",
   "metadata": {},
   "outputs": [],
   "source": [
    "print('Global actor relationships:')\n",
    "print_ingroup_agreements(global_actors)"
   ]
  },
  {
   "cell_type": "code",
   "execution_count": null,
   "id": "654868c9-c798-43da-b70b-4919e5b0da4d",
   "metadata": {},
   "outputs": [],
   "source": [
    "print('Neighbour relationships:')\n",
    "print_ingroup_agreements(neighbours)"
   ]
  },
  {
   "cell_type": "markdown",
   "id": "19b65138-b128-467b-a8da-221eb7b91799",
   "metadata": {
    "jp-MarkdownHeadingCollapsed": true,
    "tags": []
   },
   "source": [
    "## Distances"
   ]
  },
  {
   "cell_type": "code",
   "execution_count": null,
   "id": "0eabd55b-6151-45eb-8f95-92a0a48f296e",
   "metadata": {},
   "outputs": [],
   "source": [
    "# Minmax normalization for the cut-off graph (normalizes to [0.5, 1])\n",
    "def normalize_minmax(net):\n",
    "    weights = [ edge[2]['weight'] for edge in net.edges(data=True) ]\n",
    "\n",
    "    minw = min(weights)\n",
    "    maxw = max(weights)\n",
    "\n",
    "    for edge in net.edges(data=True):\n",
    "        weight = edge[2]['weight']\n",
    "        edge[2]['weight_my'] =  ((weight - minw) / (2 * (maxw - minw))) + 0.5\n",
    "        \n",
    "# Our custom normalization for the standard graph - Direct implementation\n",
    "def normalize_custom(net):\n",
    "    weights = [ edge[2]['weight'] for edge in net.edges(data=True) ]\n",
    "\n",
    "    maxw = max(weights)\n",
    "    meanw = statistics.fmean(weights)\n",
    "    weight_threshold = 2 * meanw - maxw\n",
    "    \n",
    "    minw = weight_threshold\n",
    "\n",
    "    for edge in net.edges(data=True):\n",
    "        weight = edge[2]['weight']\n",
    "        edge[2]['weight_my'] =  ((weight - minw) / (maxw - minw)) if weight > weight_threshold else 0\n",
    "        \n",
    "# calculate distances based on weight\n",
    "def calculate_distances(net):\n",
    "    for edge in net.edges(data=True):\n",
    "        my_weight = edge[2]['weight_my']\n",
    "        edge[2]['weight_distance'] = 1 / (my_weight if my_weight > 0 else 0.000001)\n",
    "        \n",
    "normalize_custom(net)\n",
    "normalize_minmax(cnet)\n",
    "calculate_distances(net)\n",
    "calculate_distances(cnet)"
   ]
  },
  {
   "cell_type": "code",
   "execution_count": null,
   "id": "383cdbc5-b39f-4a31-bd25-0b3bd5c738e1",
   "metadata": {},
   "outputs": [],
   "source": [
    "def distance_analysis(_net, country_group):\n",
    "    net = _net.copy()\n",
    "    for country in country_group:\n",
    "        if country in net:\n",
    "            try:\n",
    "                shortest_path = nx.shortest_path(net, target_country, country, weight='weight_distance')\n",
    "                if len(shortest_path) > 2:\n",
    "                    print(shortest_path[1:])\n",
    "            except:\n",
    "                print(f'No path to {country}')"
   ]
  },
  {
   "cell_type": "code",
   "execution_count": null,
   "id": "1e46e982-ade9-41a9-a186-e9fb5de38ce6",
   "metadata": {},
   "outputs": [],
   "source": [
    "print('Standard Graph')\n",
    "\n",
    "print('\\nPaths to global actors')\n",
    "distance_analysis(net, global_actors)\n",
    "\n",
    "print('\\nPaths to neighbours')\n",
    "distance_analysis(net, neighbours)"
   ]
  },
  {
   "cell_type": "code",
   "execution_count": null,
   "id": "7035e23e-8678-40a7-8e08-4d4aed8a7bd6",
   "metadata": {},
   "outputs": [],
   "source": [
    "print('Cut-off Graph')\n",
    "\n",
    "print('\\nPaths to global actors')\n",
    "distance_analysis(cnet, global_actors)\n",
    "\n",
    "print('\\nPaths to neighbours')\n",
    "distance_analysis(cnet, neighbours)"
   ]
  },
  {
   "cell_type": "markdown",
   "id": "6adf9d29-3f8c-41bb-9a87-6e75e49b1c62",
   "metadata": {
    "jp-MarkdownHeadingCollapsed": true,
    "tags": []
   },
   "source": [
    "## Centrality"
   ]
  },
  {
   "cell_type": "code",
   "execution_count": null,
   "id": "ff91fee3-fa74-44f7-95ec-e8c51dfd97b8",
   "metadata": {},
   "outputs": [],
   "source": [
    "def print_centrality(data, high_count=5, low_count=5):\n",
    "    vals = sorted(data.items(), key=lambda x: x[1], reverse=True)\n",
    "    vals = list(map(lambda val: (val[0], round(val[1], 1)), vals))\n",
    "    \n",
    "    if high_count > 0:\n",
    "        print('Highest values:')\n",
    "        highest_vals = vals[:high_count]\n",
    "        for val in highest_vals:\n",
    "            print(f'{val[0]}: {val[1]}');\n",
    "    \n",
    "    if low_count > 0:\n",
    "        print('\\nLowest values:')\n",
    "        lowest_vals = vals[-low_count:]\n",
    "        lowest_vals.reverse()\n",
    "        for val in lowest_vals:\n",
    "            print(f'{val[0]}: {val[1]}');"
   ]
  },
  {
   "cell_type": "code",
   "execution_count": null,
   "id": "b4c019bd-fe4d-4451-a74e-6b89a2efbc06",
   "metadata": {},
   "outputs": [],
   "source": [
    "def calculate_betweenness(_net):\n",
    "    net = _net.copy()\n",
    "    for node in remove_nodes:\n",
    "        if node in net:\n",
    "            net.remove_node(node)\n",
    "\n",
    "    betweenness_centrality = nx.betweenness_centrality(net, weight='weight_distance', normalized=False)\n",
    "    print(f'Target betweenness: {betweenness_centrality[target_country]}\\n')\n",
    "    print_centrality(dict(betweenness_centrality), 10, 0)"
   ]
  },
  {
   "cell_type": "code",
   "execution_count": null,
   "id": "f456f53c-4293-44f8-90fc-9b80c2070ca5",
   "metadata": {},
   "outputs": [],
   "source": [
    "calculate_betweenness(net)"
   ]
  },
  {
   "cell_type": "code",
   "execution_count": null,
   "id": "9df5e21f-e0d7-4652-8a55-c517510395a0",
   "metadata": {},
   "outputs": [],
   "source": [
    "calculate_betweenness(cnet)"
   ]
  }
 ],
 "metadata": {
  "kernelspec": {
   "display_name": "Python 3 (ipykernel)",
   "language": "python",
   "name": "python3"
  },
  "language_info": {
   "codemirror_mode": {
    "name": "ipython",
    "version": 3
   },
   "file_extension": ".py",
   "mimetype": "text/x-python",
   "name": "python",
   "nbconvert_exporter": "python",
   "pygments_lexer": "ipython3",
   "version": "3.9.13"
  }
 },
 "nbformat": 4,
 "nbformat_minor": 5
}
