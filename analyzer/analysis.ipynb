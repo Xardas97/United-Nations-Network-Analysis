{
 "cells": [
  {
   "cell_type": "code",
   "execution_count": null,
   "id": "b3cd7f01-7564-40d3-a3dd-2e88bfbe7d4a",
   "metadata": {},
   "outputs": [],
   "source": [
    "import math\n",
    "import powerlaw\n",
    "import statistics\n",
    "\n",
    "import networkx as nx\n",
    "import matplotlib.pyplot as plt\n",
    "\n",
    "from collections import Counter"
   ]
  },
  {
   "cell_type": "code",
   "execution_count": null,
   "id": "01f2276b-57ec-410c-bbeb-826320350373",
   "metadata": {},
   "outputs": [],
   "source": [
    "def load_graph(name):\n",
    "    graph_path = \"../graphs/{}.gml\".format(name)\n",
    "    return nx.read_gml(graph_path)"
   ]
  },
  {
   "cell_type": "code",
   "execution_count": null,
   "id": "7a2f3fbd-6b8d-4ac7-ac44-060797848030",
   "metadata": {},
   "outputs": [],
   "source": [
    "# Load the chosen graph\n",
    "name = \"General Assembly/serbia/net_ga_2012_2024\"\n",
    "fname = f'{name}_filled'\n",
    "cname = f'{name}_cutoff'\n",
    "\n",
    "net = load_graph(name)\n",
    "fnet = load_graph(fname)\n",
    "cnet = load_graph(cname)"
   ]
  },
  {
   "cell_type": "markdown",
   "id": "245cc9be-1db7-4e76-9196-00724efbea9b",
   "metadata": {
    "jp-MarkdownHeadingCollapsed": true,
    "tags": []
   },
   "source": [
    "### Basic Characteristics"
   ]
  },
  {
   "cell_type": "code",
   "execution_count": null,
   "id": "1d935371-d439-4df6-aabd-ff12cd0479f9",
   "metadata": {},
   "outputs": [],
   "source": [
    "print(f'Total countries: {net.number_of_nodes()}')"
   ]
  },
  {
   "cell_type": "code",
   "execution_count": null,
   "id": "9d3d6f10-12c2-44fc-a969-09d6516bf6b0",
   "metadata": {},
   "outputs": [],
   "source": [
    "print(f'Standard graph density: {nx.density(net)}')\n",
    "print(f'Cut-off graph density: {nx.density(cnet)}')"
   ]
  },
  {
   "cell_type": "code",
   "execution_count": null,
   "id": "9f07ede5-7cdc-4adc-869d-45cfb5d3e5bf",
   "metadata": {
    "tags": []
   },
   "outputs": [],
   "source": [
    "# Rich club check based on the cut-off graph\n",
    "netDegrees = nx.degree(cnet, weight='weight')\n",
    "richClubNet = nx.subgraph(cnet, [x for x in net.nodes() if netDegrees[x] > 80])\n",
    "print(f'Rich Club of {richClubNet.number_of_nodes()} nodes - Density: {nx.density(richClubNet)}')"
   ]
  },
  {
   "cell_type": "code",
   "execution_count": null,
   "id": "eb7ed1bf-bfb1-4877-b08e-2a1979ca9c88",
   "metadata": {},
   "outputs": [],
   "source": [
    "cutoff_is_connected = nx.is_connected(cnet)\n",
    "print(f'Cutoff is connected: {cutoff_is_connected}')\n",
    "if cutoff_is_connected:\n",
    "    print(f'Cut-off average distance: {nx.average_shortest_path_length(cnet)}')\n",
    "    print(f'Cut-off diameter: {nx.diameter(cnet)}')\n",
    "else:\n",
    "    print(f'Cut-off number of components: {nx.number_connected_components(cnet)}')"
   ]
  },
  {
   "cell_type": "code",
   "execution_count": null,
   "id": "8f05fc0b-6b35-4901-9b0e-44028e5050cc",
   "metadata": {},
   "outputs": [],
   "source": [
    "print(f'Filled average clustering: {nx.average_clustering(fnet, weight=\"weight\")}')\n",
    "print(f'Cut-off average clustering: {nx.average_clustering(cnet, weight=\"weight\")}')\n",
    "print(f'Cut-off global clustering: {nx.transitivity(cnet)}')"
   ]
  },
  {
   "cell_type": "code",
   "execution_count": null,
   "id": "85ecbd5a-7815-41f8-bffd-01887e81f805",
   "metadata": {},
   "outputs": [],
   "source": [
    "# Create cut-off equivalent Erdos Renyi and ScaleFree networks\n",
    "n = cnet.number_of_nodes()\n",
    "m = cnet.number_of_edges()\n",
    "p = ( 2*float(m) ) / ( n* (n-1) )\n",
    "\n",
    "netER = nx.erdos_renyi_graph(n, p)\n",
    "netSFMulti = nx.scale_free_graph(n)\n",
    "\n",
    "netSF = nx.DiGraph()\n",
    "for u,v in netSFMulti.edges():\n",
    "    if netSF.has_edge(u,v):\n",
    "        netSF[u][v]['weight'] += 1\n",
    "    else:\n",
    "        netSF.add_edge(u, v, weight=1)\n",
    "        \n",
    "print(f'Cut-off ER Average clustering: {nx.average_clustering(netER)}')\n",
    "print(f'Cut-off SF Average clustering: {nx.average_clustering(netSF)}')"
   ]
  },
  {
   "cell_type": "code",
   "execution_count": null,
   "id": "2c918b47-5dc0-4b7a-b7a7-c3c2c442a0a7",
   "metadata": {},
   "outputs": [],
   "source": [
    "def plot_clustering(net, weight = None, logScale = False):\n",
    "    clustering = nx.clustering(net, weight=weight)\n",
    "    for key, value in clustering.items():\n",
    "        clustering[key] = math.floor(value * 40) / 40\n",
    "\n",
    "    clust_counts = Counter(clustering.values())\n",
    "    print(clust_counts)\n",
    "    x, y = zip(*clust_counts.items())\n",
    "\n",
    "    plt.ylabel('frequency')\n",
    "    plt.xlabel('weighted clustering') if weight != None else plt.xlabel('clustering')\n",
    "\n",
    "    plt.bar(clust_counts.keys(), clust_counts.values(), 0.025, align='edge', color='darkred', log=logScale, edgecolor=\"black\")"
   ]
  },
  {
   "cell_type": "code",
   "execution_count": null,
   "id": "9192f902-3e00-406c-8200-547b28744824",
   "metadata": {},
   "outputs": [],
   "source": [
    "plot_clustering(fnet, weight = \"weight\", logScale = False)"
   ]
  },
  {
   "cell_type": "code",
   "execution_count": null,
   "id": "9b510a29-49f6-41a6-934e-dbad0efb4543",
   "metadata": {},
   "outputs": [],
   "source": [
    "plot_clustering(cnet, weight = \"weight\", logScale = False)"
   ]
  },
  {
   "cell_type": "code",
   "execution_count": null,
   "id": "9273fc37-e09a-4aaa-b19e-d10f351bc9cb",
   "metadata": {},
   "outputs": [],
   "source": [
    "print(f\"Filled assortativity coefficient: {nx.degree_assortativity_coefficient(fnet)}\")\n",
    "print(f\"Filled weighted koeficijent asortativnosti: {nx.degree_assortativity_coefficient(fnet, weight='weight')}\")\n",
    "print(f\"Cut-off assortativity coefficient: {nx.degree_assortativity_coefficient(cnet)}\")\n",
    "print(f\"Cut-off weighted koeficijent asortativnosti: {nx.degree_assortativity_coefficient(cnet, weight='weight')}\")"
   ]
  },
  {
   "cell_type": "code",
   "execution_count": null,
   "id": "abe92f8a-2974-4f3b-a024-5081e99b4263",
   "metadata": {},
   "outputs": [],
   "source": [
    "# Plot degree distrubution\n",
    "def plot_deg_frequency(net, weight = None, xscale = \"log\", yscale = \"log\"):\n",
    "    degrees = dict(net.degree(weight=weight))\n",
    "    for key, value in degrees.items():\n",
    "        degrees[key] = 5 * round(value/5)\n",
    "\n",
    "    deg_counts = Counter(degrees.values())\n",
    "    print(deg_counts)\n",
    "    x, y = zip(*deg_counts.items())\n",
    "\n",
    "    plt.figure(1)\n",
    "    \n",
    "    plt.xlabel('weighted degree') if weight != None else plt.xlabel('degree')\n",
    "    plt.xscale(xscale)\n",
    "    plt.xlim(min(x), max(x))\n",
    "\n",
    "    plt.ylabel('frequency')\n",
    "    plt.yscale(yscale)\n",
    "    plt.ylim(1, max(y))\n",
    "\n",
    "    plt.scatter(x, y, marker='.')\n",
    "    plt.show()"
   ]
  },
  {
   "cell_type": "code",
   "execution_count": null,
   "id": "07aa651b-65b0-462e-9952-94584a68472a",
   "metadata": {},
   "outputs": [],
   "source": [
    "# Show weighted degree distrubution\n",
    "# Is it power-law?\n",
    "plot_deg_frequency(net, weight='weight', xscale='linear', yscale='linear')"
   ]
  },
  {
   "cell_type": "markdown",
   "id": "01e77842-45a1-4592-9b58-9eeb67f28059",
   "metadata": {
    "jp-MarkdownHeadingCollapsed": true,
    "tags": []
   },
   "source": [
    "### Least and most friendly countries"
   ]
  },
  {
   "cell_type": "code",
   "execution_count": null,
   "id": "d556b8a9-b2ee-43a7-9f7a-22d305aa0fad",
   "metadata": {},
   "outputs": [],
   "source": [
    "def plot_agreement(net, xscale = \"log\", yscale = \"log\"):\n",
    "    agreements = [ edge[2]['agreement'] for edge in net.edges(data=True) ]\n",
    "    agreements = list(map(lambda x: math.floor(x * 40) / 40, agreements))\n",
    "    \n",
    "    print(f'Median agreement: {statistics.median(agreements)}')\n",
    "    print(f'Average agreement: {statistics.fmean(agreements)}')\n",
    "    \n",
    "    agreement_counts = Counter(agreements)\n",
    "    print(agreement_counts)\n",
    "    x, y = zip(*agreement_counts.items())\n",
    "\n",
    "    plt.figure(1)\n",
    "    \n",
    "    plt.xlabel('agreement')\n",
    "    plt.xscale(xscale)\n",
    "    plt.xlim(0, max(x))\n",
    "\n",
    "    plt.ylabel('frequency')\n",
    "    plt.yscale(yscale)\n",
    "    plt.ylim(1, max(y))\n",
    "\n",
    "    plt.scatter(x, y, marker='.')\n",
    "    plt.show()"
   ]
  },
  {
   "cell_type": "code",
   "execution_count": null,
   "id": "1acedf1e-d25e-43ff-abce-9b4cce1e238a",
   "metadata": {},
   "outputs": [],
   "source": [
    "# Show the distribution of 'agreement' values of the filled graph\n",
    "plot_agreement(fnet, xscale='linear', yscale='linear')"
   ]
  },
  {
   "cell_type": "code",
   "execution_count": null,
   "id": "4c6107df-af9e-4a37-8baa-cd0bb36389bb",
   "metadata": {},
   "outputs": [],
   "source": [
    "def friendly_edge_to_string(edge, country_buffer_1, country_buffer_2):\n",
    "    country1 = edge[0].ljust(country_buffer_1)\n",
    "    country2 = edge[1].ljust(country_buffer_2)\n",
    "    \n",
    "    total = str(edge[2]['total']).ljust(5)\n",
    "    points = str(edge[2]['points']).rjust(6)\n",
    "    agreement = round(edge[2]['agreement'] * 100, 1)\n",
    "    \n",
    "    return '{}, {} - {}/{} ({}%)'.format(country1, country2, points, total, agreement)\n",
    "\n",
    "def edge_country_1_length(edge):\n",
    "    return len(edge[0])\n",
    "\n",
    "def edge_country_2_length(edge):\n",
    "    return len(edge[1])\n",
    "\n",
    "def edge_country_2_length(edge):\n",
    "    return len(edge[1])\n",
    "\n",
    "def friendly_edge_print(edges):\n",
    "    max_cnt_1_length = max(map(edge_country_1_length, edges))\n",
    "    max_cnt_2_length = max(map(edge_country_2_length, edges))\n",
    "    for edge_str in map(lambda e: friendly_edge_to_string(e, max_cnt_1_length, max_cnt_2_length), edges):\n",
    "        print(edge_str)"
   ]
  },
  {
   "cell_type": "code",
   "execution_count": null,
   "id": "0d9f424b-0b69-409c-9f66-5cf85c32ff13",
   "metadata": {},
   "outputs": [],
   "source": [
    "# Sort edges by agreement\n",
    "def has_significant_total(edge):\n",
    "    return edge[2]['total'] >= 0\n",
    "\n",
    "sorted_edges = sorted(net.edges(data=True), key=lambda edge: edge[2]['agreement'])\n",
    "sorted_edges =  list(__builtin__.filter(has_significant_total, sorted_edges))"
   ]
  },
  {
   "cell_type": "code",
   "execution_count": null,
   "id": "f545366e-a3c6-473f-b583-ed1ac38c539e",
   "metadata": {},
   "outputs": [],
   "source": [
    "# Show countries with the least agreement\n",
    "friendly_edge_print(sorted_edges[:5])"
   ]
  },
  {
   "cell_type": "code",
   "execution_count": null,
   "id": "0c99e5b8-8d02-4914-9cff-a99ab48ca522",
   "metadata": {},
   "outputs": [],
   "source": [
    "# Show countries with the most agreement\n",
    "friendly_edge_print(sorted_edges[-5:])"
   ]
  },
  {
   "cell_type": "code",
   "execution_count": null,
   "id": "ebb7091f-6339-47f8-b88d-fd76252b474d",
   "metadata": {},
   "outputs": [],
   "source": [
    "# Average agreement for every country\n",
    "avg_agreements = {}\n",
    "for country_1 in fnet:\n",
    "    agreements = (fnet[country_1][country_2]['agreement'] for country_2 in fnet[country_1])\n",
    "    avg_agreements[country_1] = statistics.mean(agreements)"
   ]
  },
  {
   "cell_type": "code",
   "execution_count": null,
   "id": "9c7dd85a-c919-4fd8-9dab-d32b9cdb3435",
   "metadata": {},
   "outputs": [],
   "source": [
    "print('Countries with lowest average agreement:\\n')\n",
    "for k, v in sorted(avg_agreements.items(), key=lambda item: item[1])[:10]:\n",
    "    print(f'{k}: {round(v * 100, 1)}%')"
   ]
  },
  {
   "cell_type": "code",
   "execution_count": null,
   "id": "e62a17fb-6423-4e47-a94b-4106bf4343c9",
   "metadata": {},
   "outputs": [],
   "source": [
    "print('Countries with highest average agreement:\\n')\n",
    "for k, v in sorted(avg_agreements.items(), key=lambda item: -item[1])[:10]:\n",
    "    print(f'{k}: {round(v * 100, 1)}%')"
   ]
  },
  {
   "cell_type": "markdown",
   "id": "6adf9d29-3f8c-41bb-9a87-6e75e49b1c62",
   "metadata": {
    "jp-MarkdownHeadingCollapsed": true,
    "tags": []
   },
   "source": [
    "### Centrality"
   ]
  },
  {
   "cell_type": "code",
   "execution_count": null,
   "id": "11aa5628-8689-434a-b9a5-50ed776821f6",
   "metadata": {},
   "outputs": [],
   "source": [
    "# Calculate normalized weight using Z-Score\n",
    "def calculate_normalized_weight(net):\n",
    "    weights = [ edge[2]['weight'] for edge in net.edges(data=True) ]\n",
    "\n",
    "    meanw = statistics.fmean(weights)\n",
    "    stdw = statistics.stdev(weights)\n",
    "\n",
    "    for edge in net.edges(data=True):\n",
    "        weight = edge[2]['weight']\n",
    "        edge[2]['weight_normalized'] =  (weight - meanw) / stdw\n",
    "\n",
    "    # Calculate normalized weight by scaling z-score weight to 0-1 and cutting of extreme values\n",
    "    weights = [ edge[2]['weight_normalized'] for edge in net.edges(data=True) ]\n",
    "\n",
    "    maxw = max(weights)\n",
    "\n",
    "    for edge in net.edges(data=True):\n",
    "        weight = edge[2]['weight_normalized']\n",
    "        my_weight = weight / (maxw * 2) + 0.5\n",
    "        edge[2]['weight_normalized'] =  my_weight if my_weight > 0 else 0.000001\n",
    "\n",
    "    # Calculate reciprocal of the normalized weight\n",
    "    for edge in net.edges(data=True):\n",
    "        edge[2]['reciprocal'] = 1 / edge[2]['weight_normalized']\n",
    "        \n",
    "calculate_normalized_weight(net)"
   ]
  },
  {
   "cell_type": "code",
   "execution_count": null,
   "id": "ff91fee3-fa74-44f7-95ec-e8c51dfd97b8",
   "metadata": {},
   "outputs": [],
   "source": [
    "def print_centrality(data, high_count=5, low_count=5):\n",
    "    vals = sorted(data.items(), key=lambda x: x[1], reverse=True)\n",
    "    vals = list(map(lambda val: (val[0], round(val[1], 1)), vals))\n",
    "    \n",
    "    print('Higest values:')\n",
    "    for val in vals[:high_count]:\n",
    "        print(f'{val[0]}: {val[1]}');\n",
    "        \n",
    "    print('\\nLowest values:')\n",
    "    for val in vals[-low_count:]:\n",
    "        print(f'{val[0]}: {val[1]}');"
   ]
  },
  {
   "cell_type": "code",
   "execution_count": null,
   "id": "093e949a-f90b-44cc-b31d-299cd5619a2e",
   "metadata": {},
   "outputs": [],
   "source": [
    "# Print weighted degree centrality\n",
    "print_centrality(dict(net.degree(weight='weight')), 5, 5)"
   ]
  },
  {
   "cell_type": "code",
   "execution_count": null,
   "id": "6c217849-c983-4076-9a7a-418015bdeedc",
   "metadata": {},
   "outputs": [],
   "source": [
    "# Standard graph betweeness centrality\n",
    "print_centrality(dict(nx.betweenness_centrality(net, weight='reciprocal', normalized=False)), 10, 5)"
   ]
  }
 ],
 "metadata": {
  "kernelspec": {
   "display_name": "Python 3 (ipykernel)",
   "language": "python",
   "name": "python3"
  },
  "language_info": {
   "codemirror_mode": {
    "name": "ipython",
    "version": 3
   },
   "file_extension": ".py",
   "mimetype": "text/x-python",
   "name": "python",
   "nbconvert_exporter": "python",
   "pygments_lexer": "ipython3",
   "version": "3.9.13"
  }
 },
 "nbformat": 4,
 "nbformat_minor": 5
}
