{
 "cells": [
  {
   "cell_type": "code",
   "execution_count": null,
   "id": "87c939cf-fda0-47b4-aaea-c5a655cf1450",
   "metadata": {},
   "outputs": [],
   "source": [
    "import ast\n",
    "import datetime\n",
    "import pandas as pd"
   ]
  },
  {
   "cell_type": "markdown",
   "id": "bbc91abe",
   "metadata": {},
   "source": [
    "# Sanity Analysis"
   ]
  },
  {
   "cell_type": "code",
   "execution_count": null,
   "id": "3598e1d6",
   "metadata": {},
   "outputs": [],
   "source": [
    "# Load per year tables and check if they have the correct number of columns\n",
    "base_records_path = \"../data/records-\"\n",
    "records_extension = \".csv\"\n",
    "\n",
    "for year in range(1946, 2024):\n",
    "    records_path = base_records_path + str(year) + records_extension\n",
    "    records_for_year = pd.read_csv(records_path, index_col='ID', keep_default_na=False)\n",
    "    col_count = len(records_for_year.columns)\n",
    "    if col_count != 6:\n",
    "        print(\"Year \" + str(year) + \" has wrong number of columns: \" + str(col_count))"
   ]
  },
  {
   "cell_type": "code",
   "execution_count": null,
   "id": "6eb78305-fa72-43de-80f6-0da292157aef",
   "metadata": {},
   "outputs": [],
   "source": [
    "# Load the all records table as the primary data frame\n",
    "records_path = \"../data/records.csv\"\n",
    "df = pd.read_csv(records_path, index_col='ID', keep_default_na=False)"
   ]
  },
  {
   "cell_type": "code",
   "execution_count": null,
   "id": "5645842c-b8de-4c25-9e6e-9e0f54cb70da",
   "metadata": {},
   "outputs": [],
   "source": [
    "def checkValues(data, col, ignoreNulls=False, ignoreNotUnique=False):\n",
    "  hasNull = data[col].isnull().values.any()\n",
    "  isUnique = data[col].is_unique\n",
    "\n",
    "  if not ignoreNulls and hasNull:\n",
    "    print(col + \" has null values!\")\n",
    "\n",
    "  if not ignoreNotUnique and not isUnique:\n",
    "    print(col + \" is not unique!\")"
   ]
  },
  {
   "cell_type": "code",
   "execution_count": null,
   "id": "60d8a39e",
   "metadata": {},
   "outputs": [],
   "source": [
    "# Check for null and non-unique values\n",
    "\n",
    "if not df.index.is_unique:\n",
    "    print('IDs are not unique')\n",
    "    \n",
    "checkValues(df, 'Body', ignoreNotUnique=True)\n",
    "checkValues(df, 'Title')\n",
    "checkValues(df, 'Date', ignoreNotUnique=True)\n",
    "checkValues(df, 'Resolution')\n",
    "checkValues(df, 'Subjects', ignoreNotUnique=True)\n",
    "checkValues(df, 'Voting Data', ignoreNotUnique=True)"
   ]
  },
  {
   "cell_type": "code",
   "execution_count": null,
   "id": "c80ca5f5",
   "metadata": {
    "scrolled": true
   },
   "outputs": [],
   "source": [
    "# Check which, if any, rows have duplicate resolutions \n",
    "res_counts = df.Resolution.value_counts()\n",
    "unique_breaking_res = res_counts.index[res_counts.gt(1)]\n",
    "df[df.Resolution.isin(unique_breaking_res)]"
   ]
  },
  {
   "cell_type": "code",
   "execution_count": null,
   "id": "d78f27b5",
   "metadata": {},
   "outputs": [],
   "source": [
    "# Check which, if any, rows have null resolutions\n",
    "df[df.Resolution.isnull()]"
   ]
  },
  {
   "cell_type": "code",
   "execution_count": null,
   "id": "c624ed94",
   "metadata": {},
   "outputs": [],
   "source": [
    "# Check if 'Body' only contains the two valid values\n",
    "display(df['Body'].unique())"
   ]
  },
  {
   "cell_type": "code",
   "execution_count": null,
   "id": "028c2df8",
   "metadata": {
    "scrolled": true
   },
   "outputs": [],
   "source": [
    "# Check if all subjects values can be parsed into sets\n",
    "for index, row in df.iterrows():\n",
    "    ast.literal_eval(row['Subjects'])"
   ]
  },
  {
   "cell_type": "code",
   "execution_count": null,
   "id": "f14692c9",
   "metadata": {},
   "outputs": [],
   "source": [
    "# Is voting data in the correct format and are there and duplicate countries?\n",
    "\n",
    "valid_votes = {'A', 'Y', 'N', 'X'}\n",
    "\n",
    "for index, row in df.iterrows():\n",
    "    votingData = row['Voting Data']\n",
    "    if votingData == 'Concensus' or votingData == 'N/A':\n",
    "        continue\n",
    "        \n",
    "    countries = set()\n",
    "    \n",
    "    for votingPoint in votingData.split(';'):\n",
    "        vote = votingPoint[0]\n",
    "        country = votingPoint[2:]\n",
    "        \n",
    "        if not vote in valid_votes:\n",
    "            print(\"Invalid vote choice for ID \" + str(index) + \": \" + votingPoint)\n",
    "            \n",
    "        if not votingPoint[1] == ' ':\n",
    "            print(\"Invalid voting data format for ID \" + str(index) + \": \" + votingPoint)\n",
    "        \n",
    "        if country in countries:\n",
    "            print(\"Duplicate voting country for ID \" + str(index) + \": \" + country)\n",
    "            continue\n",
    "\n",
    "        countries.add(country)"
   ]
  },
  {
   "cell_type": "code",
   "execution_count": null,
   "id": "7d627bab",
   "metadata": {},
   "outputs": [],
   "source": [
    "# Are all dates in the correct format?\n",
    "for index, row in df.iterrows():\n",
    "    datetime.datetime.strptime(row['Date'], '%Y-%m-%d')"
   ]
  }
 ],
 "metadata": {
  "kernelspec": {
   "display_name": "Python 3 (ipykernel)",
   "language": "python",
   "name": "python3"
  },
  "language_info": {
   "codemirror_mode": {
    "name": "ipython",
    "version": 3
   },
   "file_extension": ".py",
   "mimetype": "text/x-python",
   "name": "python",
   "nbconvert_exporter": "python",
   "pygments_lexer": "ipython3",
   "version": "3.9.13"
  }
 },
 "nbformat": 4,
 "nbformat_minor": 5
}
