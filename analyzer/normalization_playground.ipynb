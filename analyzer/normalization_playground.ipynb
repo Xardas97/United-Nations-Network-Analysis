{
 "cells": [
  {
   "cell_type": "code",
   "execution_count": null,
   "id": "23a0c443-2488-46c1-bd91-b917120757ba",
   "metadata": {},
   "outputs": [],
   "source": [
    "import math\n",
    "import powerlaw\n",
    "import statistics\n",
    "\n",
    "import networkx as nx\n",
    "import matplotlib.pyplot as plt\n",
    "\n",
    "from collections import Counter"
   ]
  },
  {
   "cell_type": "code",
   "execution_count": null,
   "id": "f52763da-6659-4102-81ef-6a83956a56d6",
   "metadata": {},
   "outputs": [],
   "source": [
    "def save_graph(net, name):\n",
    "    output_path = \"../graphs/{}.gml\".format(name)\n",
    "    nx.write_gml(net, output_path)"
   ]
  },
  {
   "cell_type": "code",
   "execution_count": null,
   "id": "768a4a84-f3e0-47b1-8e5f-c31da4154a6a",
   "metadata": {},
   "outputs": [],
   "source": [
    "def load_graph(name):\n",
    "    graph_path = \"../graphs/{}.gml\".format(name)\n",
    "    return nx.read_gml(graph_path)"
   ]
  },
  {
   "cell_type": "code",
   "execution_count": null,
   "id": "6a314064-4f42-4cc3-a179-d8605683f2b4",
   "metadata": {},
   "outputs": [],
   "source": [
    "name = \"General Assembly/global/net_ga_2003_2024\"\n",
    "net = load_graph(name)\n",
    "cnet = load_graph(f'{name}_cutoff')"
   ]
  },
  {
   "cell_type": "markdown",
   "id": "2bda851a-1c66-4311-93aa-b2e67d0ba575",
   "metadata": {
    "jp-MarkdownHeadingCollapsed": true,
    "tags": []
   },
   "source": [
    "## Normalizing"
   ]
  },
  {
   "cell_type": "code",
   "execution_count": null,
   "id": "668da1bf-220c-4571-a5a9-dc3fa53bb983",
   "metadata": {},
   "outputs": [],
   "source": [
    "# Minmax normalization for the cut-off graph (normalizes to [0.5, 1])\n",
    "def normalize_minmax(net):\n",
    "    weights = [ edge[2]['weight'] for edge in net.edges(data=True) ]\n",
    "\n",
    "    minw = min(weights)\n",
    "    maxw = max(weights)\n",
    "\n",
    "    for edge in net.edges(data=True):\n",
    "        weight = edge[2]['weight']\n",
    "        edge[2]['weight_minmax'] =  ((weight - minw) / (2 * (maxw - minw))) + 0.5"
   ]
  },
  {
   "cell_type": "code",
   "execution_count": null,
   "id": "eed76660-4b20-4787-b637-7c5af4b98d9a",
   "metadata": {},
   "outputs": [],
   "source": [
    "# ZScore normalization for the standard graph\n",
    "def normalize_zscore(net):\n",
    "    weights = [ edge[2]['weight'] for edge in net.edges(data=True) ]\n",
    "\n",
    "    meanw = statistics.fmean(weights)\n",
    "    stdw = statistics.stdev(weights)\n",
    "\n",
    "    for edge in net.edges(data=True):\n",
    "        weight = edge[2]['weight']\n",
    "        edge[2]['weight_zscore'] =  (weight - meanw) / stdw"
   ]
  },
  {
   "cell_type": "code",
   "execution_count": null,
   "id": "a6ee07ac-4cf8-40d3-87fc-ee129012a500",
   "metadata": {},
   "outputs": [],
   "source": [
    "# Our custom normalization for the standard graph\n",
    "def normalize_custom(net):\n",
    "    weights = [ edge[2]['weight_zscore'] for edge in net.edges(data=True) ]\n",
    "\n",
    "    maxw = max(weights)\n",
    "\n",
    "    for edge in net.edges(data=True):\n",
    "        weight = edge[2]['weight_zscore']\n",
    "        new_median = 0.5\n",
    "        my_weight = (weight * (1 - new_median)) / maxw + new_median\n",
    "        edge[2]['weight_my'] =  my_weight if my_weight > 0 else 0.0"
   ]
  },
  {
   "cell_type": "code",
   "execution_count": null,
   "id": "0bc8b928-c107-4852-a394-94bf4b853d53",
   "metadata": {},
   "outputs": [],
   "source": [
    "# Our custom normalization for the standard graph - Direct implementation\n",
    "def normalize_custom_direct(net):\n",
    "    weights = [ edge[2]['weight'] for edge in net.edges(data=True) ]\n",
    "\n",
    "    maxw = max(weights)\n",
    "    meanw = statistics.fmean(weights)\n",
    "    weight_threshold = 2 * meanw - maxw\n",
    "    \n",
    "    minw = weight_threshold\n",
    "\n",
    "    for edge in net.edges(data=True):\n",
    "        weight = edge[2]['weight']\n",
    "        edge[2]['weight_my'] =  ((weight - minw) / (maxw - minw)) if weight > weight_threshold else 0"
   ]
  },
  {
   "cell_type": "code",
   "execution_count": null,
   "id": "8985a4a3-a3b1-42bc-b212-3c129395523e",
   "metadata": {},
   "outputs": [],
   "source": [
    "# calculate distances based on weight\n",
    "def calculate_distances(net, src_weight):\n",
    "    for edge in net.edges(data=True):\n",
    "        my_weight = edge[2][src_weight]\n",
    "        edge[2]['weight_distance'] = 1 / (my_weight if my_weight > 0 else 0.000001)"
   ]
  },
  {
   "cell_type": "code",
   "execution_count": null,
   "id": "c5c323ec-d8cd-4241-a208-4910e29bb5d6",
   "metadata": {},
   "outputs": [],
   "source": [
    "normalize_minmax(cnet)\n",
    "calculate_distances(cnet, 'weight_minmax')\n",
    "\n",
    "#normalize_zscore(net)\n",
    "#normalize_custom(net)\n",
    "normalize_custom_direct(net)\n",
    "calculate_distances(net, 'weight_my')"
   ]
  },
  {
   "cell_type": "markdown",
   "id": "b8fcd1ac-1a2f-4974-9985-926b5ccba067",
   "metadata": {
    "jp-MarkdownHeadingCollapsed": true,
    "tags": []
   },
   "source": [
    "## Plotting"
   ]
  },
  {
   "cell_type": "code",
   "execution_count": null,
   "id": "2a7d8962-8a23-4f63-a5d8-fd3d375e2e16",
   "metadata": {},
   "outputs": [],
   "source": [
    "def plot_weight(net, column_name, xscale = \"log\", yscale = \"log\", resolution=0.025, max_x = None):\n",
    "    bracket_ratio = 1 / resolution\n",
    "    \n",
    "    weights = [ edge[2][column_name] for edge in net.edges(data=True) ]\n",
    "    weights = list(map(lambda x: math.floor(x * bracket_ratio) / bracket_ratio, weights))\n",
    "    \n",
    "    print(f'Median weight: {statistics.median(weights)}')\n",
    "    print(f'Average weight: {statistics.fmean(weights)}')\n",
    "    \n",
    "    weight_counts = Counter(weights)\n",
    "    #print(weight_counts)\n",
    "    x, y = zip(*weight_counts.items())\n",
    "\n",
    "    plt.figure(1)\n",
    "    \n",
    "    plt.xlabel(column_name)\n",
    "    plt.xscale(xscale)\n",
    "    \n",
    "    plot_min = min(0, min(x))\n",
    "    plot_max = max_x if max_x != None else max(x)\n",
    "    plt.xlim(plot_min, plot_max)\n",
    "\n",
    "    plt.ylabel('frequency')\n",
    "    plt.yscale(yscale)\n",
    "    plt.ylim(0, max(y) * 1.1)\n",
    "\n",
    "    plt.scatter(x, y, marker='.')\n",
    "    plt.show()"
   ]
  },
  {
   "cell_type": "code",
   "execution_count": null,
   "id": "1671ae7e-2dec-41c1-883d-fe1ed93d0e90",
   "metadata": {},
   "outputs": [],
   "source": [
    "plot_weight(net, 'weight', xscale='linear', yscale='linear', resolution = 0.025)"
   ]
  },
  {
   "cell_type": "code",
   "execution_count": null,
   "id": "54f956a6-e7d7-4dda-916a-458b91d380f3",
   "metadata": {},
   "outputs": [],
   "source": [
    "plot_weight(cnet, 'weight', xscale='linear', yscale='linear', resolution = 0.025)"
   ]
  },
  {
   "cell_type": "code",
   "execution_count": null,
   "id": "c1b9b629-e63e-4258-b85c-2ecd1e2ac035",
   "metadata": {},
   "outputs": [],
   "source": [
    "#plot_weight(net, 'weight_zscore', xscale='linear', yscale='linear', resolution = 0.2)"
   ]
  },
  {
   "cell_type": "code",
   "execution_count": null,
   "id": "70b92e92-8b55-412d-a08b-a9c506eb24d7",
   "metadata": {},
   "outputs": [],
   "source": [
    "plot_weight(net, 'weight_my', xscale='linear', yscale='linear', resolution = 0.025)"
   ]
  },
  {
   "cell_type": "code",
   "execution_count": null,
   "id": "38fc2af9-2dfc-4167-b83c-fad158120471",
   "metadata": {},
   "outputs": [],
   "source": [
    "plot_weight(cnet, 'weight_minmax', xscale='linear', yscale='linear', resolution = 0.025)"
   ]
  },
  {
   "cell_type": "code",
   "execution_count": null,
   "id": "fdea3fb3-ffca-400d-8340-3dd597f755d0",
   "metadata": {},
   "outputs": [],
   "source": [
    "# Show the distribution of 'weight' values\n",
    "plot_weight(net, 'weight_distance', xscale='linear', yscale='linear', resolution = 0.1, max_x = 5)"
   ]
  },
  {
   "cell_type": "code",
   "execution_count": null,
   "id": "92e74bf1-02c4-43a5-acd4-419592d0ed04",
   "metadata": {},
   "outputs": [],
   "source": [
    "# Show the distribution of 'weight' values\n",
    "plot_weight(cnet, 'weight_distance', xscale='linear', yscale='linear', resolution = 0.1, max_x = 5)"
   ]
  }
 ],
 "metadata": {
  "kernelspec": {
   "display_name": "Python 3 (ipykernel)",
   "language": "python",
   "name": "python3"
  },
  "language_info": {
   "codemirror_mode": {
    "name": "ipython",
    "version": 3
   },
   "file_extension": ".py",
   "mimetype": "text/x-python",
   "name": "python",
   "nbconvert_exporter": "python",
   "pygments_lexer": "ipython3",
   "version": "3.9.13"
  }
 },
 "nbformat": 4,
 "nbformat_minor": 5
}
