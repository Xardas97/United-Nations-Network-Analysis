{
 "cells": [
  {
   "cell_type": "code",
   "execution_count": null,
   "id": "23a0c443-2488-46c1-bd91-b917120757ba",
   "metadata": {},
   "outputs": [],
   "source": [
    "import math\n",
    "import powerlaw\n",
    "import statistics\n",
    "\n",
    "import networkx as nx\n",
    "import matplotlib.pyplot as plt\n",
    "\n",
    "from collections import Counter"
   ]
  },
  {
   "cell_type": "code",
   "execution_count": null,
   "id": "f52763da-6659-4102-81ef-6a83956a56d6",
   "metadata": {},
   "outputs": [],
   "source": [
    "def save_graph(net, name):\n",
    "    output_path = \"../graphs/{}.gml\".format(name)\n",
    "    nx.write_gml(net, output_path)"
   ]
  },
  {
   "cell_type": "code",
   "execution_count": null,
   "id": "768a4a84-f3e0-47b1-8e5f-c31da4154a6a",
   "metadata": {},
   "outputs": [],
   "source": [
    "def load_graph(name):\n",
    "    graph_path = \"../graphs/{}.gml\".format(name)\n",
    "    return nx.read_gml(graph_path)"
   ]
  },
  {
   "cell_type": "code",
   "execution_count": null,
   "id": "6a314064-4f42-4cc3-a179-d8605683f2b4",
   "metadata": {},
   "outputs": [],
   "source": [
    "name = \"General Assembly/russia/net_ga_russia_2022_2024\"\n",
    "net = load_graph(name)"
   ]
  },
  {
   "cell_type": "markdown",
   "id": "2bda851a-1c66-4311-93aa-b2e67d0ba575",
   "metadata": {
    "jp-MarkdownHeadingCollapsed": true,
    "tags": []
   },
   "source": [
    "## Normalizing"
   ]
  },
  {
   "cell_type": "code",
   "execution_count": null,
   "id": "668da1bf-220c-4571-a5a9-dc3fa53bb983",
   "metadata": {},
   "outputs": [],
   "source": [
    "# Minmax\n",
    "weights = [ edge[2]['weight'] for edge in net.edges(data=True) ]\n",
    "\n",
    "minw = min(weights)\n",
    "maxw = max(weights)\n",
    "\n",
    "for edge in net.edges(data=True):\n",
    "    weight = edge[2]['weight']\n",
    "    edge[2]['weight_minmax'] =  (weight - minw) / (maxw - minw)"
   ]
  },
  {
   "cell_type": "code",
   "execution_count": null,
   "id": "eed76660-4b20-4787-b637-7c5af4b98d9a",
   "metadata": {},
   "outputs": [],
   "source": [
    "# ZScore\n",
    "weights = [ edge[2]['weight'] for edge in net.edges(data=True) ]\n",
    "\n",
    "meanw = statistics.fmean(weights)\n",
    "stdw = statistics.stdev(weights)\n",
    "\n",
    "for edge in net.edges(data=True):\n",
    "    weight = edge[2]['weight']\n",
    "    edge[2]['weight_zscore'] =  (weight - meanw) / stdw"
   ]
  },
  {
   "cell_type": "code",
   "execution_count": null,
   "id": "a6ee07ac-4cf8-40d3-87fc-ee129012a500",
   "metadata": {},
   "outputs": [],
   "source": [
    "# Custom\n",
    "weights = [ edge[2]['weight_zscore'] for edge in net.edges(data=True) ]\n",
    "\n",
    "maxw = max(weights)\n",
    "\n",
    "for edge in net.edges(data=True):\n",
    "    weight = edge[2]['weight_zscore']\n",
    "    my_weight = weight / (maxw * 2) + 0.5\n",
    "    edge[2]['weight_my'] =  my_weight if my_weight > 0 else 0.0"
   ]
  },
  {
   "cell_type": "markdown",
   "id": "b8fcd1ac-1a2f-4974-9985-926b5ccba067",
   "metadata": {
    "jp-MarkdownHeadingCollapsed": true,
    "tags": []
   },
   "source": [
    "## Plotting"
   ]
  },
  {
   "cell_type": "code",
   "execution_count": null,
   "id": "2a7d8962-8a23-4f63-a5d8-fd3d375e2e16",
   "metadata": {},
   "outputs": [],
   "source": [
    "def plot_weight(net, column_name, xscale = \"log\", yscale = \"log\"):\n",
    "    weights = [ edge[2][column_name] for edge in net.edges(data=True) ]\n",
    "    weights = list(map(lambda x: math.floor(x * 40) / 40, weights))\n",
    "    \n",
    "    print(f'Median weight: {statistics.median(weights)}')\n",
    "    print(f'Average weight: {statistics.fmean(weights)}')\n",
    "    \n",
    "    weight_counts = Counter(weights)\n",
    "    #print(weight_counts)\n",
    "    x, y = zip(*weight_counts.items())\n",
    "\n",
    "    plt.figure(1)\n",
    "    \n",
    "    plt.xlabel(column_name)\n",
    "    plt.xscale(xscale)\n",
    "    plt.xlim(min(0, min(x)), max(x))\n",
    "\n",
    "    plt.ylabel('frequency')\n",
    "    plt.yscale(yscale)\n",
    "    plt.ylim(0, max(y) * 1.1)\n",
    "\n",
    "    plt.scatter(x, y, marker='.')\n",
    "    plt.show()"
   ]
  },
  {
   "cell_type": "code",
   "execution_count": null,
   "id": "1671ae7e-2dec-41c1-883d-fe1ed93d0e90",
   "metadata": {},
   "outputs": [],
   "source": [
    "# Show the distribution of 'weight' values\n",
    "plot_weight(net, 'weight', xscale='linear', yscale='linear')"
   ]
  },
  {
   "cell_type": "code",
   "execution_count": null,
   "id": "38fc2af9-2dfc-4167-b83c-fad158120471",
   "metadata": {},
   "outputs": [],
   "source": [
    "# Show the distribution of 'weight' values\n",
    "plot_weight(net, 'weight_minmax', xscale='linear', yscale='linear')"
   ]
  },
  {
   "cell_type": "code",
   "execution_count": null,
   "id": "c1b9b629-e63e-4258-b85c-2ecd1e2ac035",
   "metadata": {},
   "outputs": [],
   "source": [
    "# Show the distribution of 'weight' values\n",
    "plot_weight(net, 'weight_zscore', xscale='linear', yscale='linear')"
   ]
  },
  {
   "cell_type": "code",
   "execution_count": null,
   "id": "0d5c4efe-a6de-4b11-9f24-e087a8bcf671",
   "metadata": {},
   "outputs": [],
   "source": [
    "# Show the distribution of 'weight' values\n",
    "plot_weight(net, 'weight_my', xscale='linear', yscale='linear')"
   ]
  },
  {
   "cell_type": "markdown",
   "id": "d7358fa2-ffec-4e68-83f9-a122f56d8601",
   "metadata": {
    "jp-MarkdownHeadingCollapsed": true,
    "tags": []
   },
   "source": [
    "## Saving"
   ]
  },
  {
   "cell_type": "code",
   "execution_count": null,
   "id": "06d0df36-ac87-4d51-a470-8a95c6003dc5",
   "metadata": {
    "tags": []
   },
   "outputs": [],
   "source": [
    "def clean_weights(chosen_weight='weight'):\n",
    "    for edge in net.edges(data=True):\n",
    "        edge[2]['weight'] = edge[2][chosen_weight]\n",
    "        del edge[2]['weight_minmax']\n",
    "        del edge[2]['weight_zscore']\n",
    "        del edge[2]['weight_my']\n",
    "        \n",
    "    # filter out all edges above threshold and grab id's\n",
    "    zero_edges = list(filter(lambda e: e[2] == 0, (e for e in net.edges.data('weight'))))\n",
    "    zero_edge_ids = list(e[:2] for e in zero_edges)\n",
    "\n",
    "    # remove filtered edges from graph G\n",
    "    net.remove_edges_from(zero_edge_ids)"
   ]
  },
  {
   "cell_type": "code",
   "execution_count": null,
   "id": "63467a9b-6d76-4240-aeb5-c07ce71f9913",
   "metadata": {},
   "outputs": [],
   "source": [
    "clean_weights(chosen_weight='weight_my')\n",
    "save_graph(net, f'{name}_normalized')"
   ]
  },
  {
   "cell_type": "code",
   "execution_count": null,
   "id": "68342908-efa2-4f21-9f5b-07c324d07c19",
   "metadata": {},
   "outputs": [],
   "source": [
    "net['RUSSIAN FEDERATION']['UNITED STATES']"
   ]
  }
 ],
 "metadata": {
  "kernelspec": {
   "display_name": "Python 3 (ipykernel)",
   "language": "python",
   "name": "python3"
  },
  "language_info": {
   "codemirror_mode": {
    "name": "ipython",
    "version": 3
   },
   "file_extension": ".py",
   "mimetype": "text/x-python",
   "name": "python",
   "nbconvert_exporter": "python",
   "pygments_lexer": "ipython3",
   "version": "3.9.13"
  }
 },
 "nbformat": 4,
 "nbformat_minor": 5
}
