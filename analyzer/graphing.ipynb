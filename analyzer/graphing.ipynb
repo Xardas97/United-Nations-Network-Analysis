{
 "cells": [
  {
   "cell_type": "code",
   "execution_count": null,
   "id": "b3cd7f01-7564-40d3-a3dd-2e88bfbe7d4a",
   "metadata": {},
   "outputs": [],
   "source": [
    "import math\n",
    "\n",
    "import pandas as pd\n",
    "import networkx as nx"
   ]
  },
  {
   "cell_type": "code",
   "execution_count": null,
   "id": "7a2f3fbd-6b8d-4ac7-ac44-060797848030",
   "metadata": {},
   "outputs": [],
   "source": [
    "# Load the records table with cleaned up country names as the primary data frame\n",
    "records_path = \"../data/records-renamed.csv\"\n",
    "df = pd.read_csv(records_path, index_col='ID', keep_default_na=False)"
   ]
  },
  {
   "cell_type": "markdown",
   "id": "501101dc-c951-4914-b389-6d2a192ae137",
   "metadata": {
    "jp-MarkdownHeadingCollapsed": true,
    "tags": []
   },
   "source": [
    "## Helpers"
   ]
  },
  {
   "cell_type": "code",
   "execution_count": null,
   "id": "f43714d2-f178-4aeb-9338-f1e1e125de80",
   "metadata": {},
   "outputs": [],
   "source": [
    "# Helper constants\n",
    "GA = 'General Assembly'\n",
    "SC = 'Security Council'\n",
    "START = 1946\n",
    "END = 2024"
   ]
  },
  {
   "cell_type": "code",
   "execution_count": null,
   "id": "0ec8a74d-6c86-4f50-82fc-d7cb5e636e92",
   "metadata": {},
   "outputs": [],
   "source": [
    "# Filter DFs for different parameters\n",
    "\n",
    "def date_is_between(date, start_year, end_year):\n",
    "    return date.str[0:4].astype(int).between(start_year, end_year)\n",
    "\n",
    "def filter_year(df, start_year, end_year):\n",
    "    return df[date_is_between(df['Date'], start_year, end_year)]\n",
    "\n",
    "def filter_body(df, body):\n",
    "    return df[df['Body'] == body]\n",
    "\n",
    "def filter(df, body, start_year, end_year):\n",
    "    return df[(df['Body'] == body) & (date_is_between(df['Date'], start_year, end_year))]"
   ]
  },
  {
   "cell_type": "markdown",
   "id": "ee7e7010-aaa4-41dc-8313-3b09e8138118",
   "metadata": {
    "jp-MarkdownHeadingCollapsed": true,
    "tags": []
   },
   "source": [
    "## Connect Countries"
   ]
  },
  {
   "cell_type": "code",
   "execution_count": null,
   "id": "dd2ef6d0-5295-421b-8494-ebeebe223247",
   "metadata": {},
   "outputs": [],
   "source": [
    "vote_weights = {\n",
    "    'Y': {\n",
    "        'Y': 1.0,\n",
    "        'N': 0.0,\n",
    "        'A': 0.5,\n",
    "        'X': 0.5\n",
    "    },\n",
    "    'N': {\n",
    "        'Y': 0.0,\n",
    "        'N': 1.0,\n",
    "        'A': 0.5,\n",
    "        'X': 0.5\n",
    "    },\n",
    "    'A': {\n",
    "        'Y': 0.5,\n",
    "        'N': 0.5,\n",
    "        'A': 1.0,\n",
    "        'X': 1.0\n",
    "    },\n",
    "    'X': {\n",
    "        'Y': 0.5,\n",
    "        'N': 0.5,\n",
    "        'A': 1.0,\n",
    "        'X': 1.0\n",
    "    }\n",
    "}"
   ]
  },
  {
   "cell_type": "code",
   "execution_count": null,
   "id": "7674dda9-8e6a-44ba-a8c1-764032c2953d",
   "metadata": {},
   "outputs": [],
   "source": [
    "def connect_countries(net, country1, country2, vote1, vote2):\n",
    "    vote_weight = vote_weights[vote1][vote2]\n",
    "    if net.has_edge(country1, country2):\n",
    "        total = net[country1][country2]['total']\n",
    "        points = net[country1][country2]['points']\n",
    "        \n",
    "        net[country1][country2]['total'] = total + 1\n",
    "        net[country1][country2]['points'] = points + vote_weight\n",
    "    else:\n",
    "        net.add_edge(country1, country2, points = vote_weight, total=1)\n",
    "        \n",
    "def connect_voting_points(net, voting_point_1, voting_point_2):\n",
    "    vote_1 = voting_point_1[0]\n",
    "    vote_2 = voting_point_2[0]\n",
    "\n",
    "    country_1 = voting_point_1[2:]\n",
    "    country_2 = voting_point_2[2:]\n",
    "\n",
    "    connect_countries(net, country_1, country_2, vote_1, vote_2)"
   ]
  },
  {
   "cell_type": "code",
   "execution_count": null,
   "id": "fcdfafbe-9153-427e-8a82-4f6bad61e458",
   "metadata": {},
   "outputs": [],
   "source": [
    "# Connect the countries and calculate their total agreement\n",
    "def print_progress(finished, total, next_to_print):\n",
    "    progress = math.floor(finished * 100 / total)\n",
    "    if progress >= next_to_print:\n",
    "        print('Progress: {}%'.format(progress))\n",
    "        return next_to_print + 5\n",
    "    else:\n",
    "        return next_to_print\n",
    "\n",
    "def calculate_agreement(net):\n",
    "    for countries in net.edges:\n",
    "        edge = net[countries[0]][countries[1]]\n",
    "        edge['agreement'] = edge['points'] * 100 / edge['total']\n",
    "\n",
    "def connect_all_countries(net, body, start_year, end_year):\n",
    "    df_wip = df[(df['Voting Data'] != 'Concensus') & (df['Voting Data'] != 'N/A')]\n",
    "    df_wip = filter(df_wip, body, start_year, end_year)\n",
    "\n",
    "    finished = 0\n",
    "    next_to_print = 0\n",
    "    total = df_wip.shape[0]\n",
    "\n",
    "    for index, row in df_wip.iterrows():\n",
    "        voting_points = row['Voting Data'].split(';')\n",
    "        for i in range(0, len(voting_points)):\n",
    "            for j in range(i + 1, len(voting_points)):\n",
    "                connect_voting_points(net, voting_points[i], voting_points[j])\n",
    "\n",
    "        finished += 1\n",
    "        next_to_print = print_progress(finished, total, next_to_print)\n",
    "\n",
    "    calculate_agreement(net)"
   ]
  },
  {
   "cell_type": "markdown",
   "id": "22c7da48-a04e-4324-beea-e608f136d0a7",
   "metadata": {
    "jp-MarkdownHeadingCollapsed": true,
    "tags": []
   },
   "source": [
    "## Create Graphs"
   ]
  },
  {
   "cell_type": "code",
   "execution_count": null,
   "id": "c34cffeb-8377-4917-8904-c1679fcabf9f",
   "metadata": {},
   "outputs": [],
   "source": [
    "country_coord_path = \"./country-coord.csv\"\n",
    "country_coords = pd.read_csv(country_coord_path, index_col='Country')\n",
    "country_coords.index= country_coords.index.str.upper()"
   ]
  },
  {
   "cell_type": "code",
   "execution_count": null,
   "id": "6fd463cf-b4d6-455f-9e41-6f29cccd4469",
   "metadata": {},
   "outputs": [],
   "source": [
    "def add_coordinates(net):\n",
    "    for country in net:\n",
    "        if country in country_coords.index:\n",
    "            country_coord = country_coords.loc[country]\n",
    "            net.nodes[country]['x'] = country_coord['Longitude (average)']\n",
    "            net.nodes[country]['y'] = country_coord['Latitude (average)']\n",
    "        else:\n",
    "            print('No coords found for ' + country)"
   ]
  },
  {
   "cell_type": "code",
   "execution_count": null,
   "id": "f7ee6682-9ee8-4e9f-8456-cffe5e15150d",
   "metadata": {},
   "outputs": [],
   "source": [
    "def create_graph(name, body, start_year, end_year):\n",
    "    net = nx.Graph()\n",
    "    \n",
    "    connect_all_countries(net, body, start_year, end_year)\n",
    "    add_coordinates(net)\n",
    "    \n",
    "    output_path = \"../graphs/{}.gml\".format(name)\n",
    "    nx.write_gml(net, output_path)\n",
    "    \n",
    "    return net"
   ]
  },
  {
   "cell_type": "code",
   "execution_count": null,
   "id": "92526246-101c-4265-ac04-24fb3b9e95dd",
   "metadata": {},
   "outputs": [],
   "source": [
    "#net_ga_all =  create_graph('net_ga_all', GA, START, END)\n",
    "#net_sc_all =  create_graph('net_sc_all', SC, START, END)\n",
    "#net_ga_2006_end = create_graph('net_ga_2006_end', GA, 2006, END)"
   ]
  },
  {
   "cell_type": "markdown",
   "id": "9ca5ac96-0032-4267-8a80-e85e40c1b94f",
   "metadata": {
    "jp-MarkdownHeadingCollapsed": true,
    "tags": []
   },
   "source": [
    "## Analyze Graph"
   ]
  },
  {
   "cell_type": "code",
   "execution_count": null,
   "id": "392ccb29-d839-4923-8241-799c1ac6cdf4",
   "metadata": {},
   "outputs": [],
   "source": [
    "# Select the graph to analaze\n",
    "significant_total = 0\n",
    "net = net_sc_all"
   ]
  },
  {
   "cell_type": "code",
   "execution_count": null,
   "id": "1d935371-d439-4df6-aabd-ff12cd0479f9",
   "metadata": {},
   "outputs": [],
   "source": [
    "print('Total countries: ' + str(len(net.nodes)))"
   ]
  },
  {
   "cell_type": "code",
   "execution_count": null,
   "id": "4c6107df-af9e-4a37-8baa-cd0bb36389bb",
   "metadata": {},
   "outputs": [],
   "source": [
    "def friendly_edge_to_string(edge, country_buffer_1, country_buffer_2):\n",
    "    country1 = edge[0].ljust(country_buffer_1)\n",
    "    country2 = edge[1].ljust(country_buffer_2)\n",
    "    \n",
    "    total = str(edge[2]['total']).ljust(5)\n",
    "    points = str(edge[2]['points']).rjust(6)\n",
    "    agreement = round(edge[2]['agreement'], 1)\n",
    "    \n",
    "    return '{}, {} - {}/{} ({}%)'.format(country1, country2, points, total, agreement)\n",
    "\n",
    "def edge_country_1_length(edge):\n",
    "    return len(edge[0])\n",
    "\n",
    "def edge_country_2_length(edge):\n",
    "    return len(edge[1])\n",
    "\n",
    "def edge_country_2_length(edge):\n",
    "    return len(edge[1])\n",
    "\n",
    "def friendly_edge_print(edges):\n",
    "    max_cnt_1_length = max(map(edge_country_1_length, edges))\n",
    "    max_cnt_2_length = max(map(edge_country_2_length, edges))\n",
    "    for edge_str in map(lambda e: friendly_edge_to_string(e, max_cnt_1_length, max_cnt_2_length), edges):\n",
    "        print(edge_str)"
   ]
  },
  {
   "cell_type": "code",
   "execution_count": null,
   "id": "06032e3c-f026-4a0e-a309-d44e71bc74dc",
   "metadata": {},
   "outputs": [],
   "source": [
    "# Sort edges by agreement\n",
    "sorted_edges = sorted(net.edges(data=True), key=lambda edge: edge[2]['agreement'])"
   ]
  },
  {
   "cell_type": "code",
   "execution_count": null,
   "id": "0d9f424b-0b69-409c-9f66-5cf85c32ff13",
   "metadata": {},
   "outputs": [],
   "source": [
    "def has_significant_total(edge):\n",
    "    return edge[2]['total'] >= significant_total\n",
    "\n",
    "sorted_edges =  list(__builtin__.filter(has_significant_total, sorted_edges))"
   ]
  },
  {
   "cell_type": "code",
   "execution_count": null,
   "id": "f545366e-a3c6-473f-b583-ed1ac38c539e",
   "metadata": {},
   "outputs": [],
   "source": [
    "# Show countries with the least agreement\n",
    "friendly_edge_print(sorted_edges[:5])"
   ]
  },
  {
   "cell_type": "code",
   "execution_count": null,
   "id": "0c99e5b8-8d02-4914-9cff-a99ab48ca522",
   "metadata": {},
   "outputs": [],
   "source": [
    "# Show countries with the most agreement\n",
    "friendly_edge_print(sorted_edges[-5:])"
   ]
  }
 ],
 "metadata": {
  "kernelspec": {
   "display_name": "Python 3 (ipykernel)",
   "language": "python",
   "name": "python3"
  },
  "language_info": {
   "codemirror_mode": {
    "name": "ipython",
    "version": 3
   },
   "file_extension": ".py",
   "mimetype": "text/x-python",
   "name": "python",
   "nbconvert_exporter": "python",
   "pygments_lexer": "ipython3",
   "version": "3.9.13"
  }
 },
 "nbformat": 4,
 "nbformat_minor": 5
}
