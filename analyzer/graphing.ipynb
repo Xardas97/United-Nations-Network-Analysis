{
 "cells": [
  {
   "cell_type": "code",
   "execution_count": null,
   "id": "b3cd7f01-7564-40d3-a3dd-2e88bfbe7d4a",
   "metadata": {},
   "outputs": [],
   "source": [
    "import math\n",
    "\n",
    "import pandas as pd\n",
    "import networkx as nx"
   ]
  },
  {
   "cell_type": "code",
   "execution_count": null,
   "id": "7a2f3fbd-6b8d-4ac7-ac44-060797848030",
   "metadata": {},
   "outputs": [],
   "source": [
    "# Load the records table with cleaned up country names as the primary data frame\n",
    "records_path = \"../data/records-renamed.csv\"\n",
    "df = pd.read_csv(records_path, index_col='ID', keep_default_na=False)"
   ]
  },
  {
   "cell_type": "markdown",
   "id": "501101dc-c951-4914-b389-6d2a192ae137",
   "metadata": {
    "jp-MarkdownHeadingCollapsed": true,
    "tags": []
   },
   "source": [
    "## Helpers"
   ]
  },
  {
   "cell_type": "code",
   "execution_count": null,
   "id": "f43714d2-f178-4aeb-9338-f1e1e125de80",
   "metadata": {},
   "outputs": [],
   "source": [
    "# Helper constants\n",
    "GA = 'General Assembly'\n",
    "SC = 'Security Council'\n",
    "START = 1946\n",
    "END = 2024"
   ]
  },
  {
   "cell_type": "code",
   "execution_count": null,
   "id": "0ec8a74d-6c86-4f50-82fc-d7cb5e636e92",
   "metadata": {},
   "outputs": [],
   "source": [
    "# Filter DFs with different parameters\n",
    "def date_is_between(date, start_year, end_year):\n",
    "    return date.str[0:4].astype(int).between(start_year, end_year)\n",
    "\n",
    "def filter(df, body, start_year, end_year):\n",
    "    return df[(df['Body'] == body) & (date_is_between(df['Date'], start_year, end_year))]"
   ]
  },
  {
   "cell_type": "markdown",
   "id": "ee7e7010-aaa4-41dc-8313-3b09e8138118",
   "metadata": {
    "jp-MarkdownHeadingCollapsed": true,
    "tags": []
   },
   "source": [
    "## Connect Countries"
   ]
  },
  {
   "cell_type": "code",
   "execution_count": null,
   "id": "dd2ef6d0-5295-421b-8494-ebeebe223247",
   "metadata": {},
   "outputs": [],
   "source": [
    "vote_weights = {\n",
    "    'Y': {\n",
    "        'Y': 1.0,\n",
    "        'N': 0.0,\n",
    "        'A': 0.5,\n",
    "        'X': 0.5\n",
    "    },\n",
    "    'N': {\n",
    "        'Y': 0.0,\n",
    "        'N': 1.0,\n",
    "        'A': 0.5,\n",
    "        'X': 0.5\n",
    "    },\n",
    "    'A': {\n",
    "        'Y': 0.5,\n",
    "        'N': 0.5,\n",
    "        'A': 1.0,\n",
    "        'X': 1.0\n",
    "    },\n",
    "    'X': {\n",
    "        'Y': 0.5,\n",
    "        'N': 0.5,\n",
    "        'A': 1.0,\n",
    "        'X': 1.0\n",
    "    }\n",
    "}"
   ]
  },
  {
   "cell_type": "code",
   "execution_count": null,
   "id": "7674dda9-8e6a-44ba-a8c1-764032c2953d",
   "metadata": {},
   "outputs": [],
   "source": [
    "def connect_countries(net, country1, country2, vote1, vote2):\n",
    "    vote_weight = vote_weights[vote1][vote2]\n",
    "    if net.has_edge(country1, country2):\n",
    "        total = net[country1][country2]['total']\n",
    "        points = net[country1][country2]['points']\n",
    "        \n",
    "        net[country1][country2]['total'] = total + 1\n",
    "        net[country1][country2]['points'] = points + vote_weight\n",
    "    else:\n",
    "        net.add_edge(country1, country2, points = vote_weight, total=1)\n",
    "        \n",
    "def connect_voting_points(net, voting_point_1, voting_point_2):\n",
    "    vote_1 = voting_point_1[0]\n",
    "    vote_2 = voting_point_2[0]\n",
    "\n",
    "    country_1 = voting_point_1[2:]\n",
    "    country_2 = voting_point_2[2:]\n",
    "\n",
    "    connect_countries(net, country_1, country_2, vote_1, vote_2)"
   ]
  },
  {
   "cell_type": "code",
   "execution_count": null,
   "id": "fcdfafbe-9153-427e-8a82-4f6bad61e458",
   "metadata": {},
   "outputs": [],
   "source": [
    "# Connect the countries and calculate their total agreement\n",
    "def print_progress(finished, total, next_to_print):\n",
    "    progress = math.floor(finished * 100 / total)\n",
    "    if progress >= next_to_print:\n",
    "        print('Progress: {}%'.format(progress))\n",
    "        return next_to_print + 5\n",
    "    else:\n",
    "        return next_to_print\n",
    "\n",
    "def calculate_agreement(net):\n",
    "    for edge in net.edges(data=True):\n",
    "        edge[2]['agreement'] = edge[2]['points'] / edge[2]['total']\n",
    "\n",
    "def calculate_weight(net):\n",
    "    for edge in net.edges(data=True):\n",
    "        edge[2]['weight'] = edge[2]['agreement']\n",
    "\n",
    "def connect_all_countries(net, body, start_year, end_year):\n",
    "    df_wip = df[(df['Voting Data'] != 'Concensus') & (df['Voting Data'] != 'N/A')]\n",
    "    df_wip = filter(df_wip, body, start_year, end_year)\n",
    "\n",
    "    finished = 0\n",
    "    next_to_print = 0\n",
    "    total = df_wip.shape[0]\n",
    "\n",
    "    for index, row in df_wip.iterrows():\n",
    "        voting_points = row['Voting Data'].split(';')\n",
    "        for i in range(0, len(voting_points)):\n",
    "            for j in range(i + 1, len(voting_points)):\n",
    "                connect_voting_points(net, voting_points[i], voting_points[j])\n",
    "\n",
    "        finished += 1\n",
    "        next_to_print = print_progress(finished, total, next_to_print)\n",
    "\n",
    "    calculate_agreement(net)\n",
    "    calculate_weight(net)"
   ]
  },
  {
   "cell_type": "markdown",
   "id": "22c7da48-a04e-4324-beea-e608f136d0a7",
   "metadata": {
    "jp-MarkdownHeadingCollapsed": true,
    "tags": []
   },
   "source": [
    "## Create Graphs"
   ]
  },
  {
   "cell_type": "code",
   "execution_count": null,
   "id": "c34cffeb-8377-4917-8904-c1679fcabf9f",
   "metadata": {},
   "outputs": [],
   "source": [
    "country_coord_path = \"./country-coord.csv\"\n",
    "country_coords = pd.read_csv(country_coord_path, index_col='Country')[['Longitude (average)', 'Latitude (average)']]\n",
    "country_coords.index= country_coords.index.str.upper()"
   ]
  },
  {
   "cell_type": "code",
   "execution_count": null,
   "id": "d2cffaca-4de0-4de4-865e-e5ff0b93efc0",
   "metadata": {},
   "outputs": [],
   "source": [
    "country_size_path = \"./country-size.csv\"\n",
    "country_sizes = pd.read_csv(country_size_path, index_col='Country')[['Area']]\n",
    "country_sizes.index = country_sizes.index.str.upper()\n",
    "country_sizes.index = country_sizes.index.str.strip()"
   ]
  },
  {
   "cell_type": "code",
   "execution_count": null,
   "id": "6fd463cf-b4d6-455f-9e41-6f29cccd4469",
   "metadata": {},
   "outputs": [],
   "source": [
    "def add_coordinates(net):\n",
    "    for country in net:\n",
    "        if country in country_coords.index:\n",
    "            country_coord = country_coords.loc[country]\n",
    "            net.nodes[country]['x'] = country_coord['Longitude (average)'] * 10\n",
    "            net.nodes[country]['y'] = country_coord['Latitude (average)'] * 10\n",
    "        else:\n",
    "            print('No coords found for ' + country)"
   ]
  },
  {
   "cell_type": "code",
   "execution_count": null,
   "id": "8b4a7323-6bdb-4720-9c6e-a67b340d7ec0",
   "metadata": {},
   "outputs": [],
   "source": [
    "def add_sizes(net):\n",
    "    for country in net:\n",
    "        if country in country_sizes.index:\n",
    "            size = country_sizes.loc[country]['Area'].item()\n",
    "            net.nodes[country]['size'] = size\n",
    "        else:\n",
    "            print('No size found for ' + country)"
   ]
  },
  {
   "cell_type": "code",
   "execution_count": null,
   "id": "f7ee6682-9ee8-4e9f-8456-cffe5e15150d",
   "metadata": {},
   "outputs": [],
   "source": [
    "def create_graph(name, body, start_year, end_year):\n",
    "    net = nx.Graph()\n",
    "    \n",
    "    connect_all_countries(net, body, start_year, end_year)\n",
    "    add_coordinates(net)\n",
    "    add_sizes(net)\n",
    "    \n",
    "    output_path = \"../graphs/{}.gml\".format(name)\n",
    "    nx.write_gml(net, output_path)\n",
    "    \n",
    "    return net"
   ]
  },
  {
   "cell_type": "code",
   "execution_count": null,
   "id": "92526246-101c-4265-ac04-24fb3b9e95dd",
   "metadata": {},
   "outputs": [],
   "source": [
    "#net_ga_all = create_graph('net_ga_all', GA, START, END)\n",
    "#net_sc_all = create_graph('net_sc_all', SC, START, END)\n",
    "#net_ga_2006_end = create_graph('net_ga_2006_end', GA, 2006, END)"
   ]
  }
 ],
 "metadata": {
  "kernelspec": {
   "display_name": "Python 3 (ipykernel)",
   "language": "python",
   "name": "python3"
  },
  "language_info": {
   "codemirror_mode": {
    "name": "ipython",
    "version": 3
   },
   "file_extension": ".py",
   "mimetype": "text/x-python",
   "name": "python",
   "nbconvert_exporter": "python",
   "pygments_lexer": "ipython3",
   "version": "3.9.13"
  }
 },
 "nbformat": 4,
 "nbformat_minor": 5
}
