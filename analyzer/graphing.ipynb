{
 "cells": [
  {
   "cell_type": "code",
   "execution_count": null,
   "id": "b3cd7f01-7564-40d3-a3dd-2e88bfbe7d4a",
   "metadata": {},
   "outputs": [],
   "source": [
    "import os\n",
    "import ast\n",
    "import math\n",
    "import statistics\n",
    "\n",
    "import pandas as pd\n",
    "import networkx as nx"
   ]
  },
  {
   "cell_type": "code",
   "execution_count": null,
   "id": "7a2f3fbd-6b8d-4ac7-ac44-060797848030",
   "metadata": {},
   "outputs": [],
   "source": [
    "# Load the records table with cleaned up country names as the primary data frame\n",
    "records_path = \"../data/records-renamed.csv\"\n",
    "df = pd.read_csv(records_path, index_col='ID', keep_default_na=False)"
   ]
  },
  {
   "cell_type": "markdown",
   "id": "501101dc-c951-4914-b389-6d2a192ae137",
   "metadata": {
    "jp-MarkdownHeadingCollapsed": true,
    "tags": []
   },
   "source": [
    "## Helpers"
   ]
  },
  {
   "cell_type": "code",
   "execution_count": null,
   "id": "f43714d2-f178-4aeb-9338-f1e1e125de80",
   "metadata": {},
   "outputs": [],
   "source": [
    "# Helper constants\n",
    "GA = 'General Assembly'\n",
    "SC = 'Security Council'\n",
    "START = 1946\n",
    "END = 2024"
   ]
  },
  {
   "cell_type": "code",
   "execution_count": null,
   "id": "0ec8a74d-6c86-4f50-82fc-d7cb5e636e92",
   "metadata": {},
   "outputs": [],
   "source": [
    "# Filter DFs with different parameters\n",
    "def date_is_between(date, start_year, end_year):\n",
    "    return date.str[0:4].astype(int).between(start_year, end_year)\n",
    "\n",
    "def filter_df(df, body, start_year, end_year):\n",
    "    return df[(df['Body'] == body) & (date_is_between(df['Date'], start_year, end_year))]\n",
    "\n",
    "def has_subject(_subjects, subject_whitelist, subject_blacklist):\n",
    "    subjects = set(ast.literal_eval(_subjects))\n",
    "    passed = True\n",
    "    \n",
    "    if subject_whitelist:\n",
    "        passed &= len(subjects.intersection(subject_whitelist)) > 0\n",
    "    \n",
    "    if subject_blacklist:\n",
    "        passed &= len(subjects) > 0 and len(subjects.intersection(subject_blacklist)) == 0\n",
    "    \n",
    "    return passed\n",
    "\n",
    "def filter_df_subjects(df, subject_whitelist, subject_blacklist):\n",
    "    return df[df['Subjects'].map(lambda subjects: has_subject(subjects, subject_whitelist, subject_blacklist))]"
   ]
  },
  {
   "cell_type": "markdown",
   "id": "ee7e7010-aaa4-41dc-8313-3b09e8138118",
   "metadata": {
    "jp-MarkdownHeadingCollapsed": true,
    "tags": []
   },
   "source": [
    "## Connect Countries"
   ]
  },
  {
   "cell_type": "code",
   "execution_count": null,
   "id": "dd2ef6d0-5295-421b-8494-ebeebe223247",
   "metadata": {},
   "outputs": [],
   "source": [
    "vote_weights = {\n",
    "    'Y': {\n",
    "        'Y': 1.0,\n",
    "        'N': 0.0,\n",
    "        'A': 0.5,\n",
    "        'X': 0.5\n",
    "    },\n",
    "    'N': {\n",
    "        'Y': 0.0,\n",
    "        'N': 1.0,\n",
    "        'A': 0.5,\n",
    "        'X': 0.5\n",
    "    },\n",
    "    'A': {\n",
    "        'Y': 0.5,\n",
    "        'N': 0.5,\n",
    "        'A': 1.0,\n",
    "        'X': 1.0\n",
    "    },\n",
    "    'X': {\n",
    "        'Y': 0.5,\n",
    "        'N': 0.5,\n",
    "        'A': 1.0,\n",
    "        'X': 1.0\n",
    "    }\n",
    "}"
   ]
  },
  {
   "cell_type": "code",
   "execution_count": null,
   "id": "7674dda9-8e6a-44ba-a8c1-764032c2953d",
   "metadata": {},
   "outputs": [],
   "source": [
    "def connect_countries(net, country1, country2, vote1, vote2):\n",
    "    vote_weight = vote_weights[vote1][vote2]\n",
    "    if net.has_edge(country1, country2):\n",
    "        total = net[country1][country2]['total']\n",
    "        points = net[country1][country2]['points']\n",
    "        \n",
    "        net[country1][country2]['total'] = total + 1\n",
    "        net[country1][country2]['points'] = points + vote_weight\n",
    "    else:\n",
    "        net.add_edge(country1, country2, points = vote_weight, total=1)\n",
    "        \n",
    "def connect_voting_points(net, voting_point_1, voting_point_2):\n",
    "    vote_1 = voting_point_1[0]\n",
    "    vote_2 = voting_point_2[0]\n",
    "\n",
    "    country_1 = voting_point_1[2:]\n",
    "    country_2 = voting_point_2[2:]\n",
    "\n",
    "    connect_countries(net, country_1, country_2, vote_1, vote_2)"
   ]
  },
  {
   "cell_type": "code",
   "execution_count": null,
   "id": "fcdfafbe-9153-427e-8a82-4f6bad61e458",
   "metadata": {},
   "outputs": [],
   "source": [
    "# Connect the countries and calculate their total agreement\n",
    "def print_progress(finished, total, next_to_print):\n",
    "    progress = math.floor(finished * 100 / total)\n",
    "    if progress >= next_to_print:\n",
    "        print('Progress: {}%'.format(progress))\n",
    "        return next_to_print + 5\n",
    "    else:\n",
    "        return next_to_print\n",
    "    \n",
    "def connect_all_countries(net, body, start_year, end_year, subject_whitelist, subject_blacklist):\n",
    "    df_wip = df[(df['Voting Data'] != 'Concensus') & (df['Voting Data'] != 'N/A')]\n",
    "    df_wip = filter_df(df_wip, body, start_year, end_year)\n",
    "    df_wip = filter_df_subjects(df_wip, subject_whitelist, subject_blacklist)\n",
    "\n",
    "    finished = 0\n",
    "    next_to_print = 0\n",
    "    total = df_wip.shape[0]\n",
    "\n",
    "    for index, row in df_wip.iterrows():\n",
    "        voting_points = row['Voting Data'].split(';')\n",
    "        for i in range(0, len(voting_points)):\n",
    "            for j in range(i + 1, len(voting_points)):\n",
    "                connect_voting_points(net, voting_points[i], voting_points[j])\n",
    "\n",
    "        finished += 1\n",
    "        next_to_print = print_progress(finished, total, next_to_print)\n",
    "    \n",
    "    for country in net:\n",
    "        all_totals = (net[country][country_2]['total'] for country_2 in net[country])\n",
    "        net.nodes[country]['total'] = max(all_totals)"
   ]
  },
  {
   "cell_type": "markdown",
   "id": "fabc8558-31f5-460b-9008-a69dd2c73879",
   "metadata": {
    "jp-MarkdownHeadingCollapsed": true,
    "tags": []
   },
   "source": [
    "## Add Properties"
   ]
  },
  {
   "cell_type": "code",
   "execution_count": null,
   "id": "0a483c3a-18f5-4fec-902a-07dad2cabda9",
   "metadata": {},
   "outputs": [],
   "source": [
    "def remove_low_data_nodes(net):\n",
    "    all_totals = (node[1] for node in net.nodes.data('total'))\n",
    "    total_threshold = max(all_totals) / 4\n",
    "\n",
    "    # find all edges below the threshold and grab id's\n",
    "    nodes_to_remove = list(filter(lambda node: node[1] <= total_threshold, (node for node in net.nodes.data('total'))))\n",
    "    nodes_to_remove_ids = list(node[0] for node in nodes_to_remove)\n",
    "\n",
    "    # remove filtered edges from graph G\n",
    "    print(f'Removing {len(nodes_to_remove_ids)} low total nodes')\n",
    "    if len(nodes_to_remove_ids) > 0:\n",
    "        print(nodes_to_remove_ids)\n",
    "    net.remove_nodes_from(nodes_to_remove_ids)"
   ]
  },
  {
   "cell_type": "code",
   "execution_count": null,
   "id": "94a06b3f-eedc-4415-b3ef-cf6bb0ea0510",
   "metadata": {},
   "outputs": [],
   "source": [
    "def remove_low_data_edges(net):\n",
    "    total_threshold = 10\n",
    "\n",
    "    # find all nodes below the threshhold and grab id's\n",
    "    edges_to_remove = list(filter(lambda e: e[2] <= total_threshold, (e for e in net.edges.data('total'))))\n",
    "    edges_to_remove_ids = list(e[:2] for e in edges_to_remove)\n",
    "\n",
    "    # remove filtered edges from graph G\n",
    "    print(f'Removing {len(edges_to_remove_ids)} low total edges')\n",
    "    if len(edges_to_remove_ids) > 0:\n",
    "        print(edges_to_remove_ids)\n",
    "    net.remove_edges_from(edges_to_remove)\n",
    "    \n",
    "    isolated_nodes = list(nx.isolates(net))\n",
    "    print(f'Removing countries with no edges left: {isolated_nodes}')\n",
    "    net.remove_nodes_from(isolated_nodes)"
   ]
  },
  {
   "cell_type": "code",
   "execution_count": null,
   "id": "d9842b44-3a93-4e6d-b2ff-bdb7c2da9435",
   "metadata": {},
   "outputs": [],
   "source": [
    "def calculate_agreement(net):\n",
    "    for edge in net.edges(data=True):\n",
    "        edge[2]['agreement'] = edge[2]['points'] / edge[2]['total']\n",
    "\n",
    "def calculate_weight(net):\n",
    "    for edge in net.edges(data=True):\n",
    "        weight = edge[2]['agreement']\n",
    "        edge[2]['weight'] = weight if weight > 0 else 0.000001"
   ]
  },
  {
   "cell_type": "code",
   "execution_count": null,
   "id": "c34cffeb-8377-4917-8904-c1679fcabf9f",
   "metadata": {},
   "outputs": [],
   "source": [
    "country_coord_path = \"./country-coord.csv\"\n",
    "country_coords = pd.read_csv(country_coord_path, index_col='Country')[['Longitude (average)', 'Latitude (average)']]\n",
    "country_coords.index= country_coords.index.str.upper()"
   ]
  },
  {
   "cell_type": "code",
   "execution_count": null,
   "id": "d2cffaca-4de0-4de4-865e-e5ff0b93efc0",
   "metadata": {},
   "outputs": [],
   "source": [
    "country_size_path = \"./country-size.csv\"\n",
    "country_sizes = pd.read_csv(country_size_path, index_col='Country')[['Area']]\n",
    "country_sizes.index = country_sizes.index.str.upper()\n",
    "country_sizes.index = country_sizes.index.str.strip()"
   ]
  },
  {
   "cell_type": "code",
   "execution_count": null,
   "id": "6fd463cf-b4d6-455f-9e41-6f29cccd4469",
   "metadata": {},
   "outputs": [],
   "source": [
    "def add_coordinates(net):\n",
    "    for country in net:\n",
    "        if country in country_coords.index:\n",
    "            country_coord = country_coords.loc[country]\n",
    "            lon = country_coord['Longitude (average)'] \n",
    "            lat = country_coord['Latitude (average)']\n",
    "            net.nodes[country]['lon'] = lon\n",
    "            net.nodes[country]['lat'] = lat\n",
    "            net.nodes[country]['x'] = lon * 10\n",
    "            net.nodes[country]['y'] = lat * 10\n",
    "        else:\n",
    "            print('No coords found for ' + country)"
   ]
  },
  {
   "cell_type": "code",
   "execution_count": null,
   "id": "8b4a7323-6bdb-4720-9c6e-a67b340d7ec0",
   "metadata": {},
   "outputs": [],
   "source": [
    "def add_sizes(net):\n",
    "    for country in net:\n",
    "        if country in country_sizes.index:\n",
    "            size = country_sizes.loc[country]['Area'].item()\n",
    "            net.nodes[country]['size'] = size\n",
    "        else:\n",
    "            print('No size found for ' + country)"
   ]
  },
  {
   "cell_type": "markdown",
   "id": "22c7da48-a04e-4324-beea-e608f136d0a7",
   "metadata": {
    "jp-MarkdownHeadingCollapsed": true,
    "tags": []
   },
   "source": [
    "## Graph Creation Methods"
   ]
  },
  {
   "cell_type": "code",
   "execution_count": null,
   "id": "a128ed71-c898-4a1a-80b3-d9a4d504b40c",
   "metadata": {},
   "outputs": [],
   "source": [
    "def save_graph(net, name):\n",
    "    output_path = \"../graphs/{}.gml\".format(name)\n",
    "    \n",
    "    output_dir = os.path.dirname(output_path)\n",
    "    if not os.path.exists(output_dir):\n",
    "        os.makedirs(output_dir)\n",
    "    \n",
    "    nx.write_gml(net, output_path)"
   ]
  },
  {
   "cell_type": "code",
   "execution_count": null,
   "id": "f7ee6682-9ee8-4e9f-8456-cffe5e15150d",
   "metadata": {},
   "outputs": [],
   "source": [
    "def create_graph(name, body, start_year, end_year, should_remove_low_data_nodes=False, subject_whitelist=None, subject_blacklist=None):\n",
    "    net = nx.Graph()\n",
    "    \n",
    "    connect_all_countries(net, body, start_year, end_year, subject_whitelist, subject_blacklist)\n",
    "\n",
    "    if should_remove_low_data_nodes:\n",
    "        remove_low_data_nodes(net)\n",
    "    \n",
    "    if body == GA:\n",
    "        remove_low_data_edges(net)\n",
    "        \n",
    "    calculate_agreement(net)\n",
    "    calculate_weight(net)\n",
    "    \n",
    "    add_coordinates(net)\n",
    "    add_sizes(net)\n",
    "    \n",
    "    save_graph(net, name)\n",
    "    \n",
    "    return net"
   ]
  },
  {
   "cell_type": "code",
   "execution_count": null,
   "id": "f5065a4a-0af5-4731-9953-326fc7271cc4",
   "metadata": {},
   "outputs": [],
   "source": [
    "def create_filled_graph(name, source_net):\n",
    "    net = source_net.copy()\n",
    "    \n",
    "    fill_count = sum(1 for x in nx.non_edges(net))\n",
    "    if fill_count == 0:\n",
    "        print('No fill necessary')\n",
    "        save_graph(net, name)\n",
    "        return net\n",
    "    \n",
    "    print(f'Fill Graph - Filling {fill_count} countries')\n",
    "    \n",
    "    all_weights = map(lambda edge: edge[2]['weight'], net.edges(data=True))\n",
    "    median_weight = statistics.median(all_weights)\n",
    "    print(f'Fill weight: {median_weight}')\n",
    "    \n",
    "    for countries in nx.non_edges(net):\n",
    "        print(f'Filling: {countries}')\n",
    "        net.add_edge(countries[0], countries[1], points=0.0, total=0, agreement=0.0, weight=median_weight)\n",
    "    \n",
    "    save_graph(net, name)\n",
    "    return net"
   ]
  },
  {
   "cell_type": "code",
   "execution_count": null,
   "id": "1855b7bc-30b6-4037-bb10-92ee1a6fa6f3",
   "metadata": {},
   "outputs": [],
   "source": [
    "def create_cutoff_graph(name, source_net):\n",
    "    net = source_net.copy()\n",
    "    \n",
    "    # Choose the threshold\n",
    "    agreements = [ edge[2]['agreement'] for edge in net.edges(data=True) ]\n",
    "    agreement_threshold = statistics.median(agreements)\n",
    "\n",
    "    # find all edges below the agreement threshold and grab id's\n",
    "    edges_to_remove = list(filter(lambda e: e[2] <= agreement_threshold, (e for e in net.edges.data('agreement'))))\n",
    "    edges_to_remove_ids = list(e[:2] for e in edges_to_remove)\n",
    "\n",
    "    # remove filtered edges from graph G\n",
    "    print(f'Cut-off Graph - Removing {len(edges_to_remove_ids)} edges')\n",
    "    net.remove_edges_from(edges_to_remove)\n",
    "\n",
    "    save_graph(net, name)\n",
    "    \n",
    "    return net"
   ]
  },
  {
   "cell_type": "code",
   "execution_count": null,
   "id": "1f197cd4-e26a-46f7-b121-a34f3bca3b37",
   "metadata": {},
   "outputs": [],
   "source": [
    "def create_graphs(name, body, start_year, end_year, should_remove_low_data_nodes=False, subject_whitelist=None, subject_blacklist=None):\n",
    "    filled_name = f'{name}_filled'\n",
    "    cutoff_name = f'{name}_cutoff'\n",
    "    \n",
    "    net = create_graph(name, body, start_year, end_year, should_remove_low_data_nodes, subject_whitelist, subject_blacklist)\n",
    "    filled = create_filled_graph(filled_name, net)\n",
    "    cutoff = create_cutoff_graph(cutoff_name, net)\n",
    "    return net"
   ]
  },
  {
   "cell_type": "code",
   "execution_count": null,
   "id": "37e208f7-66c3-4706-abdc-cff5783fe1ef",
   "metadata": {},
   "outputs": [],
   "source": [
    "def create_graphs_from_periods(periods, group_name, body, subject_whitelist=None, subject_blacklist=None):\n",
    "    for period in periods:\n",
    "        start = period[0]\n",
    "        end = period[1]\n",
    "\n",
    "        body_str = 'ga' if body == GA else 'sc'\n",
    "        name = f'{body}/{group_name}/net_{body_str}_{start}_{end}'\n",
    "\n",
    "        print(f'\\nCreating {name}...')\n",
    "        should_remove_low_data_nodes = (body == GA)\n",
    "        create_graphs(name, body, start, end, should_remove_low_data_nodes, subject_whitelist, subject_blacklist)"
   ]
  },
  {
   "cell_type": "code",
   "execution_count": null,
   "id": "57c5cf76-96c6-4475-9666-a6724ec1fd53",
   "metadata": {},
   "outputs": [],
   "source": [
    "def load_graph(name):\n",
    "    graph_path = \"../graphs/{}.gml\".format(name)\n",
    "    return nx.read_gml(graph_path)"
   ]
  },
  {
   "cell_type": "markdown",
   "id": "0e451690-4efe-4699-8f7d-61029114cc31",
   "metadata": {
    "jp-MarkdownHeadingCollapsed": true,
    "tags": []
   },
   "source": [
    "## Create Graphs"
   ]
  },
  {
   "cell_type": "code",
   "execution_count": null,
   "id": "6de279de-ecfb-4886-810b-29913047f963",
   "metadata": {},
   "outputs": [],
   "source": [
    "global_time_periods = [\n",
    "    (1946, 1955), # Post war, Korean War\n",
    "    (1956, 1975), # Vietnam War\n",
    "    (1976, 1991), # Late Cold War\n",
    "    (1992, 2002), # Collapse of Communism\n",
    "    (2003, 2024), # Contemporary\n",
    "    (2022, 2024), # Current \n",
    "]\n",
    "\n",
    "serbia_time_periods = [\n",
    "    (1946, 1979), # Early Yugoslavia\n",
    "    (1980, 1991), # Late Yugoslavia\n",
    "    (2001, 2006), # Post-Sloba\n",
    "    (2006, 2011), # Yellow Serbia\n",
    "    (2012, 2024), # Punished Serbia\n",
    "]\n",
    "\n",
    "russia_time_periods = [\n",
    "    (2000, 2008), # Early Putin (Pre Georgia)\n",
    "    (2009, 2013), # Mid Putin (Post Georgia)\n",
    "    (2014, 2021), # Putin Risen (Post Crimea)\n",
    "    (2022, 2024), # Pariah (Post Ukraine)\n",
    "]\n",
    "\n",
    "france_time_periods = [\n",
    "    (1946, 1980), # Colonial France\n",
    "    (1981, 1994), # Miterand\n",
    "    (1995, 2011), # Chirac & Sarkozy\n",
    "    #(2012, 2016), # Hollande\n",
    "    #(2017, 2024), # Macron\n",
    "]"
   ]
  },
  {
   "cell_type": "code",
   "execution_count": null,
   "id": "92526246-101c-4265-ac04-24fb3b9e95dd",
   "metadata": {},
   "outputs": [],
   "source": [
    "#net_ga_all = create_graphs('net_ga_all', GA, START, END)\n",
    "#net_sc_all = create_graphs('net_sc_all', SC, START, END)\n",
    "\n",
    "#create_graphs_from_periods(global_time_periods, \"global\", GA)\n",
    "#create_graphs_from_periods(global_time_periods, \"global\", SC)\n",
    "#create_graphs_from_periods(serbia_time_periods, \"serbia\", GA)\n",
    "#create_graphs_from_periods(russia_time_periods, \"russia\", GA)\n",
    "#create_graphs_from_periods(france_time_periods, \"france\", GA)\n",
    "\n",
    "human_rights_subjects = ['HUMAN RIGHTS ADVANCEMENT', 'HUMAN RIGHTS--REPORTS', 'UN. HUMAN RIGHTS COUNCIL--REPORTS', 'GLOBALIZATION--HUMAN RIGHTS']\n",
    "israel_and_palestine_subjects = ['TERRITORIES OCCUPIED BY ISRAEL--HUMAN RIGHTS--REPORTS', 'UNRWA--ACTIVITIES', 'PALESTINE QUESTION', 'MIDDLE EAST SITUATION', 'TERRITORIES OCCUPIED BY ISRAEL--NATURAL RESOURCES', 'TERRITORIES OCCUPIED BY ISRAEL--SETTLEMENT POLICY', 'TERRITORIES OCCUPIED BY ISRAEL--HUMAN RIGHTS']\n",
    "decolonization_subjects = ['DECOLONIZATION', 'DECOLONIZATION--UN SYSTEM']\n",
    "nuclear_subjects = ['NUCLEAR DISARMAMENT', 'NUCLEAR NON-PROLIFERATION', 'MIDDLE EAST--NUCLEAR PROLIFERATION', 'NUCLEAR WEAPON TESTS--TREATIES', 'NUCLEAR WEAPONS USE--UN. INTERNATIONAL COURT OF JUSTICE OPINION', 'NUCLEAR WEAPONS USE--TREATIES', 'NUCLEAR DISARMAMENT--TREATY COMPLIANCE', 'NUCLEAR WEAPONS--ELIMINATION', 'NUCLEAR DISARMAMENT--CONFERENCES', 'NUCLEAR DISARMAMENT NEGOTIATIONS', 'SOUTHERN HEMISPHERE--NUCLEAR-WEAPON-FREE ZONES', 'NUCLEAR NON-PROLIFERATION--INTERNATIONAL OBLIGATIONS', 'NUCLEAR-WEAPON-FREE ZONES', 'NUCLEAR WEAPONS--HUMANITARIAN CONSEQUENCES', 'MIDDLE EAST--NUCLEAR-WEAPON-FREE ZONES', 'NUCLEAR WEAPONS--TREATIES']\n",
    "\n",
    "#create_graphs('Subjects/human_rights',             GA, 2003, END, True, subject_whitelist = human_rights_subjects)\n",
    "#create_graphs('Subjects/israel_and_palestine',     GA, 2003, END, True, subject_whitelist = israel_and_palestine_subjects)\n",
    "#create_graphs('Subjects/non_israel_and_palestine', GA, 2003, END, True, subject_blacklist = israel_and_palestine_subjects)\n",
    "#create_graphs('Subjects/decolonization',           GA, 2003, END, True, subject_whitelist = decolonization_subjects)\n",
    "#create_graphs('Subjects/nuclear',                  GA, 2003, END, True, subject_whitelist = nuclear_subjects)"
   ]
  }
 ],
 "metadata": {
  "kernelspec": {
   "display_name": "Python 3 (ipykernel)",
   "language": "python",
   "name": "python3"
  },
  "language_info": {
   "codemirror_mode": {
    "name": "ipython",
    "version": 3
   },
   "file_extension": ".py",
   "mimetype": "text/x-python",
   "name": "python",
   "nbconvert_exporter": "python",
   "pygments_lexer": "ipython3",
   "version": "3.9.13"
  }
 },
 "nbformat": 4,
 "nbformat_minor": 5
}
