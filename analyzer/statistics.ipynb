{
 "cells": [
  {
   "cell_type": "code",
   "execution_count": null,
   "id": "a3f5f7fd-b19a-4935-86a7-4d3c93b7cd89",
   "metadata": {},
   "outputs": [],
   "source": [
    "import ast\n",
    "import calendar\n",
    "\n",
    "import pandas as pd\n",
    "import matplotlib.pyplot as plt"
   ]
  },
  {
   "cell_type": "code",
   "execution_count": null,
   "id": "87c939cf-fda0-47b4-aaea-c5a655cf1450",
   "metadata": {},
   "outputs": [],
   "source": [
    "# Helper constants\n",
    "GA = 'General Assembly'\n",
    "SC = 'Security Council'\n",
    "START = 1946\n",
    "END = 2024"
   ]
  },
  {
   "cell_type": "code",
   "execution_count": null,
   "id": "6eb78305-fa72-43de-80f6-0da292157aef",
   "metadata": {},
   "outputs": [],
   "source": [
    "# Load the all records table as the primary data frame\n",
    "records_path = \"../data/records.csv\"\n",
    "df = pd.read_csv(records_path, index_col='ID', keep_default_na=False)"
   ]
  },
  {
   "cell_type": "markdown",
   "id": "7f8c392c-ae43-4f7b-839b-3e7f8610ec75",
   "metadata": {
    "jp-MarkdownHeadingCollapsed": true,
    "tags": []
   },
   "source": [
    "## Helpers"
   ]
  },
  {
   "cell_type": "code",
   "execution_count": null,
   "id": "e0fbb839-234a-4fae-b3fb-8a8e2e49f1bf",
   "metadata": {},
   "outputs": [],
   "source": [
    "# Filter DFs for different parameters\n",
    "\n",
    "def date_is_between(date, start_year, end_year):\n",
    "    return date.str[0:4].astype(int).between(start_year, end_year)\n",
    "\n",
    "def filter_year(df, start_year, end_year):\n",
    "    return df[date_is_between(df['Date'], start_year, end_year)]\n",
    "\n",
    "def filter_body(df, body):\n",
    "    return df[df['Body'] == body]\n",
    "\n",
    "def filter(df, body, start_year, end_year):\n",
    "    return df[(df['Body'] == body) & (date_is_between(df['Date'], start_year, end_year))]"
   ]
  },
  {
   "cell_type": "code",
   "execution_count": null,
   "id": "3a09a436-74f3-4168-b9ec-c843f2946c1c",
   "metadata": {},
   "outputs": [],
   "source": [
    "# Common maps\n",
    "def date_to_year(date):\n",
    "    return int(date[0:4])\n",
    "\n",
    "def to_percentage(value, total):\n",
    "    return value * 100 / total"
   ]
  },
  {
   "cell_type": "markdown",
   "id": "b3ee174b-a1bb-403e-93d7-b86d2c8a54e7",
   "metadata": {
    "jp-MarkdownHeadingCollapsed": true,
    "tags": []
   },
   "source": [
    "## Title"
   ]
  },
  {
   "cell_type": "code",
   "execution_count": null,
   "id": "f9ad4a82-6640-41e3-948a-fbf59acde306",
   "metadata": {},
   "outputs": [],
   "source": [
    "# Which titles appear most often\n",
    "df_title_counts = df[['Title']].value_counts()\n",
    "df_title_counts.head(5)"
   ]
  },
  {
   "cell_type": "code",
   "execution_count": null,
   "id": "ebb61039-055b-4922-8995-8efefb439769",
   "metadata": {},
   "outputs": [],
   "source": [
    "# Are resolutions with the same title all in a few years of each other?\n",
    "most_common_title = df_title_counts.index[0][0]\n",
    "df_most_common_title = df[df['Title'] == most_common_title]\n",
    "display(df_most_common_title.head(3))\n",
    "display(df_most_common_title.tail(3))"
   ]
  },
  {
   "cell_type": "markdown",
   "id": "e218c5c3-8dc1-44d3-9f7c-b39cdbb132ef",
   "metadata": {
    "jp-MarkdownHeadingCollapsed": true,
    "tags": []
   },
   "source": [
    "## Body"
   ]
  },
  {
   "cell_type": "code",
   "execution_count": null,
   "id": "dacb7d39-a26b-4f39-a061-f0bcce646d2d",
   "metadata": {},
   "outputs": [],
   "source": [
    "# How many % resolutions are in SC vs GA?\n",
    "df_body_counts = df[['Body']].value_counts()\n",
    "sc_percentage = df_body_counts[SC] * 100 / df.shape[0]\n",
    "ga_perctange = df_body_counts[GA] * 100 / df.shape[0]\n",
    "print('Resolutions by Security Council: ~' + str(round(sc_percentage)) + '%')\n",
    "print('Resolutions by General Assembly: ~' + str(round(ga_perctange)) + '%')"
   ]
  },
  {
   "cell_type": "markdown",
   "id": "ba8d7d9d-8e64-4adb-b306-c041324de020",
   "metadata": {
    "jp-MarkdownHeadingCollapsed": true,
    "tags": []
   },
   "source": [
    "## Dates"
   ]
  },
  {
   "cell_type": "code",
   "execution_count": null,
   "id": "3983455e-2ec0-4843-a18c-52544f31dc39",
   "metadata": {
    "tags": []
   },
   "outputs": [],
   "source": [
    "# Which dates were the most productive for either chamber\n",
    "def count_resolutions_per_date(body):\n",
    "    print(body)\n",
    "    df_date_counts = df[df['Body'] == body][['Date']].value_counts()\n",
    "    display(df_date_counts.head(5))\n",
    "\n",
    "count_resolutions_per_date(SC)\n",
    "print('')\n",
    "count_resolutions_per_date(GA)"
   ]
  },
  {
   "cell_type": "code",
   "execution_count": null,
   "id": "4d9dc17c-f344-4fbe-b70d-2a73f432924f",
   "metadata": {},
   "outputs": [],
   "source": [
    "# Were there dates with only one resolution adopted?\n",
    "df_date_counts = filter_body(df, GA)[['Date']].value_counts()\n",
    "df_date_counts.tail(5)"
   ]
  },
  {
   "cell_type": "code",
   "execution_count": null,
   "id": "f9f2f22f-7319-40cd-b688-1a77bb5fce25",
   "metadata": {},
   "outputs": [],
   "source": [
    "# Investigate the most productive dates\n",
    "def analyze_most_productive_date(body):\n",
    "    print(body)\n",
    "    \n",
    "    dates_by_productivity = filter_body(df, body)[['Date']].value_counts()\n",
    "    \n",
    "    most_productive_date = dates_by_productivity.index[0][0]\n",
    "    most_productive_date_count = dates_by_productivity[most_productive_date]\n",
    "\n",
    "    most_productive_date_year = most_productive_date[0:4]\n",
    "    most_productive_date_year_count = df[df['Date'].str.startswith(most_productive_date_year)].shape[0]\n",
    "\n",
    "    most_productive_date_percantage_in_its_year = most_productive_date_count * 100 / most_productive_date_year_count\n",
    "\n",
    "    print('Most productive date: ' + str(most_productive_date))\n",
    "    print('During this date a total of ' + str(most_productive_date_count) + ' resolutions were adopted')\n",
    "    print('During that year a total of ' + str(most_productive_date_year_count) + ' resolutions were adopted')\n",
    "    print('That is ~' + str(round(most_productive_date_percantage_in_its_year)) + '% of all resolutions for that year')\n",
    "\n",
    "analyze_most_productive_date(SC)\n",
    "print('-------------------------------------')\n",
    "analyze_most_productive_date(GA)"
   ]
  },
  {
   "cell_type": "code",
   "execution_count": null,
   "id": "4a0cfd0e-5de7-422e-91f6-a2d4a609eb38",
   "metadata": {
    "tags": []
   },
   "outputs": [],
   "source": [
    "# How many dates in each year had resolutions held\n",
    "def analyze_active_dates_per_year(body):\n",
    "    print(body)\n",
    "    df_body = filter_body(df, body)\n",
    "    \n",
    "    year_activity = {}\n",
    "    for year in range(START, END - 1): #ignore current year, it's not complete\n",
    "        days_in_year = 365 + calendar.isleap(year)\n",
    "        df_year = df_body[df_body['Date'].str.startswith(str(year))]\n",
    "        \n",
    "        active_dates = len(df_year['Date'].unique())\n",
    "        active_percentage = active_dates * 100 / days_in_year\n",
    "        \n",
    "        year_activity[year] = active_percentage\n",
    "    \n",
    "    most_active_year = max(year_activity, key=year_activity.get)\n",
    "    most_activity = year_activity[most_active_year]\n",
    "    print('Most active year ' + str(most_active_year) + ' had ' + str(round(most_activity)) + '% activity')\n",
    "    \n",
    "    least_active_year = min(year_activity, key=year_activity.get)\n",
    "    least_activity = year_activity[least_active_year]\n",
    "    print('Least active year ' + str(least_active_year) + ' had ' + str(round(least_activity)) + '% activity')\n",
    "\n",
    "analyze_active_dates_per_year(SC)\n",
    "print('-------------------------------------')\n",
    "analyze_active_dates_per_year(GA)"
   ]
  },
  {
   "cell_type": "code",
   "execution_count": null,
   "id": "35e8160f-3439-45e3-855e-1a91d2da5f24",
   "metadata": {},
   "outputs": [],
   "source": [
    "# What's the average amount of adoptions in an active day?\n",
    "def analyze_average_activity(body, start_year, end_year):\n",
    "    print(body + \" average adoptions for years [{}, {}]\".format(start_year, end_year))\n",
    "    \n",
    "    df_filtered = filter(df, body, start_year, end_year)\n",
    "    resolutions_per_date = df_filtered[['Date']].value_counts()\n",
    "    print('Total adoptiops in that period: ' + str(df_filtered.shape[0]))\n",
    "    print('Average resolutions adopted per day: ' + str(resolutions_per_date.mean()))\n",
    "    print('Median resolutions adopted per day: ' + str(resolutions_per_date.median()))\n",
    "    print('')\n",
    "\n",
    "analyze_average_activity(SC, START, END - 1)\n",
    "analyze_average_activity(GA, START, END - 1)"
   ]
  },
  {
   "cell_type": "code",
   "execution_count": null,
   "id": "977f21f3-fddd-4011-b5db-4c0a5a118383",
   "metadata": {},
   "outputs": [],
   "source": [
    "# How does the average amount of adoptions change over the years?\n",
    "\n",
    "def analyze_average_activity_per_year(body):\n",
    "    analyze_average_activity(body, START, 1955)\n",
    "    analyze_average_activity(body, 1956, 1975)\n",
    "    analyze_average_activity(body, 1976, 1990)\n",
    "    analyze_average_activity(body, 1991, 2002)\n",
    "    analyze_average_activity(body, 2003, END - 1)\n",
    "\n",
    "analyze_average_activity_per_year(SC)\n",
    "print('-------------------------------------')\n",
    "analyze_average_activity_per_year(GA)"
   ]
  },
  {
   "cell_type": "code",
   "execution_count": null,
   "id": "fee79dee-c579-479c-bb32-25bce9486fb5",
   "metadata": {},
   "outputs": [],
   "source": [
    "# Plot the number of resolutions per year\n",
    "def plot_resolutions_per_year(body):\n",
    "    df_body = filter_body(df, body)\n",
    "    resolutions_per_year = df_body['Date'].map(date_to_year).value_counts(sort=False)\n",
    "    resolutions_per_year = resolutions_per_year.drop(labels = [2024])\n",
    "    resolutions_per_year.plot(title='Resolutions in the ' + body)"
   ]
  },
  {
   "cell_type": "code",
   "execution_count": null,
   "id": "ac8e8580-12d2-4527-a2b9-cc20eeeb77f9",
   "metadata": {},
   "outputs": [],
   "source": [
    "plot_resolutions_per_year(GA)"
   ]
  },
  {
   "cell_type": "code",
   "execution_count": null,
   "id": "0bb13e1c-cb62-49f3-a987-364287ae55c8",
   "metadata": {},
   "outputs": [],
   "source": [
    "plot_resolutions_per_year(SC)"
   ]
  },
  {
   "cell_type": "markdown",
   "id": "2bd8b387-5018-48df-9fa6-c5ce02a0c824",
   "metadata": {
    "jp-MarkdownHeadingCollapsed": true,
    "tags": []
   },
   "source": [
    "## Subjects"
   ]
  },
  {
   "cell_type": "code",
   "execution_count": null,
   "id": "b2281182-99b5-44f4-84a3-071946cca0a5",
   "metadata": {},
   "outputs": [],
   "source": [
    "def get_percentage_with_no_subjects(df):\n",
    "    empty = 0\n",
    "    total = df.shape[0]\n",
    "\n",
    "    for index, row in df.iterrows():\n",
    "        subjects = ast.literal_eval(row['Subjects'])\n",
    "        if not len(subjects):\n",
    "            empty += 1\n",
    "\n",
    "    return empty * 100 / total"
   ]
  },
  {
   "cell_type": "code",
   "execution_count": null,
   "id": "dc783ca3-a091-4873-a62e-bdc8785c1876",
   "metadata": {},
   "outputs": [],
   "source": [
    "# How many resolutions have no subjects\n",
    "percentage_with_no_subjects = get_percentage_with_no_subjects(df)\n",
    "print(str(round(percentage_with_no_subjects)) + \"% of all resolutions have no subjects\")"
   ]
  },
  {
   "cell_type": "code",
   "execution_count": null,
   "id": "b79141f8-7643-461a-8e39-a091a5ca5a5c",
   "metadata": {},
   "outputs": [],
   "source": [
    "# What is the most recent year with no subjects\n",
    "most_recent_year = 1943\n",
    "most_recent_year_percentage = 0\n",
    "\n",
    "for year in range (START, END + 1):\n",
    "    df_year = filter_year(df, year, year)\n",
    "    percentage_with_no_subjects = get_percentage_with_no_subjects(df_year)\n",
    "    if percentage_with_no_subjects > 0:\n",
    "        most_recent_year = year\n",
    "        most_recent_year_percentage = percentage_with_no_subjects\n",
    "\n",
    "print(\"{} is the most recent year with resolutions that have no subjects, {}% of them\".format(most_recent_year, most_recent_year_percentage))"
   ]
  },
  {
   "cell_type": "code",
   "execution_count": null,
   "id": "bedc4074-e535-465a-839a-ed9c0e6ea9c6",
   "metadata": {},
   "outputs": [],
   "source": [
    "# Plot the percentage of resolutions with subjects per year\n",
    "def subjects_to_subject_presence(subjects):\n",
    "    return len(ast.literal_eval(subjects)) > 0\n",
    "\n",
    "def plot_resolutions_with_subjects(body):\n",
    "    df_wip = filter_body(df, body)[['Subjects', 'Date']]\n",
    "    df_wip['Date'] = df_wip['Date'].map(date_to_year)\n",
    "    df_wip['Subjects'] = df_wip['Subjects'].map(subjects_to_subject_presence)\n",
    "    \n",
    "    df_percentages = df_wip.groupby(by='Date')['Subjects'].mean()\n",
    "    df_percentages.plot(title='Subject presence in the ' + body)"
   ]
  },
  {
   "cell_type": "code",
   "execution_count": null,
   "id": "4019b786-ee2c-45b0-87b7-0e69d571497c",
   "metadata": {},
   "outputs": [],
   "source": [
    "plot_resolutions_with_subjects(GA)"
   ]
  },
  {
   "cell_type": "code",
   "execution_count": null,
   "id": "490c3e6e-3148-43fe-9f24-5aca54f23fce",
   "metadata": {},
   "outputs": [],
   "source": [
    "plot_resolutions_with_subjects(SC)"
   ]
  },
  {
   "cell_type": "code",
   "execution_count": null,
   "id": "6d9e55f5-cb2c-4f9a-b5dc-b6c2e3fa50f8",
   "metadata": {},
   "outputs": [],
   "source": [
    "def subjects_to_length(subjects):\n",
    "    return len(ast.literal_eval(subjects))\n",
    "\n",
    "def plot_resolutions_per_subject_length():\n",
    "    subjects_length = df['Subjects'].map(subjects_to_length).value_counts().sort_index()\n",
    "    \n",
    "    max_subjects = subjects_length.index.max()\n",
    "    subjects_length = subjects_length.reindex(range(max_subjects + 1), fill_value=0)\n",
    "    display(subjects_length)\n",
    "    \n",
    "    subjects_length.plot(kind='bar', title='Resolutions per subject length')\n",
    "    return max_subjects\n",
    "\n",
    "max_subjects = plot_resolutions_per_subject_length()"
   ]
  },
  {
   "cell_type": "code",
   "execution_count": null,
   "id": "c5ab4b60-5da0-49ef-87fe-bdfa9324e055",
   "metadata": {},
   "outputs": [],
   "source": [
    "# Find resolutions that have the maximum amount of subjects\n",
    "df_wip = df[['Subjects']].copy()\n",
    "df_wip['Subjects'] = df['Subjects'].map(subjects_to_length)\n",
    "df_wip = df_wip[df_wip['Subjects'] == max_subjects]\n",
    "df[df.index.isin(df_wip.index)]"
   ]
  },
  {
   "cell_type": "markdown",
   "id": "516561ee-a9e3-4d9f-b7a1-653bd34591cb",
   "metadata": {
    "jp-MarkdownHeadingCollapsed": true,
    "tags": []
   },
   "source": [
    "## Voting Data"
   ]
  },
  {
   "cell_type": "code",
   "execution_count": null,
   "id": "dd0c4dca-55bc-437c-b3f8-4275c01aa5bc",
   "metadata": {
    "tags": []
   },
   "outputs": [],
   "source": [
    "# Create a Data Frame with simplified voting data for statistics purposes\n",
    "def to_simplified_voting_data(voting_data):\n",
    "    if voting_data == 'Concensus' or voting_data == 'N/A':\n",
    "        return voting_data\n",
    "    \n",
    "    for voting_point in voting_data.split(';'):\n",
    "        if voting_point[0] != 'Y':\n",
    "            return 'Voted on'\n",
    "        \n",
    "    return 'Voted with Concensus'\n",
    "\n",
    "df_vds = df[['Body', 'Voting Data', 'Date']].copy()\n",
    "df_vds['Voting Data'] = df_vds['Voting Data'].map(to_simplified_voting_data)"
   ]
  },
  {
   "cell_type": "code",
   "execution_count": null,
   "id": "ae94aae2-af4c-4e64-b293-a0e657dd9962",
   "metadata": {},
   "outputs": [],
   "source": [
    "# Plot resolutions by voting status\n",
    "def plot_resolutions_by_voting_status(body):\n",
    "    df_body = filter_body(df_vds, body)\n",
    "    total = df_body.shape[0]\n",
    "    \n",
    "    vote_held = df_body['Voting Data'].value_counts()\n",
    "    display(vote_held)\n",
    "    \n",
    "    vote_held = vote_held.map(lambda v: to_percentage(v, total))\n",
    "    vote_held.plot(kind='barh', title='% of Resolutions per vote status in the ' + body)"
   ]
  },
  {
   "cell_type": "code",
   "execution_count": null,
   "id": "2b259895-4f56-4d5b-bd9f-91e8fd242e33",
   "metadata": {},
   "outputs": [],
   "source": [
    "plot_resolutions_by_voting_status(GA)"
   ]
  },
  {
   "cell_type": "code",
   "execution_count": null,
   "id": "abf698c8-fccf-4bcf-98af-4b2aa65f21d9",
   "metadata": {},
   "outputs": [],
   "source": [
    "plot_resolutions_by_voting_status(SC)"
   ]
  },
  {
   "cell_type": "code",
   "execution_count": null,
   "id": "c13c5d50-5792-4aac-a6f3-9629951bbd2e",
   "metadata": {},
   "outputs": [],
   "source": [
    "# Adopted without voting through the decades\n",
    "def percentage_of_concensus_for_years_and_body(body, start_year, end_year):\n",
    "    df_wip = filter(df_vds, body, start_year, end_year)\n",
    "    total_count = df_wip.shape[0]\n",
    "    \n",
    "    concensus_count = df_wip[(df_wip['Voting Data'] == 'Concensus') | (df_wip['Voting Data'] == 'Voted with Concensus')].shape[0]\n",
    "    \n",
    "    percentage = concensus_count * 100 / total_count\n",
    "    print(\"Period {}-{}: {}%\".format(start_year, end_year, round(percentage, 2)))"
   ]
  },
  {
   "cell_type": "code",
   "execution_count": null,
   "id": "2a792ac6-c857-4a74-8d3d-3077920b79de",
   "metadata": {},
   "outputs": [],
   "source": [
    "def percentage_of_concensus_for_body(body):\n",
    "    print(body)\n",
    "    percentage_of_concensus_for_years_and_body(body, START, 1955)\n",
    "    percentage_of_concensus_for_years_and_body(body, 1956, 1975)\n",
    "    percentage_of_concensus_for_years_and_body(body, 1976, 1990)\n",
    "    percentage_of_concensus_for_years_and_body(body, 1991, 2002)\n",
    "    percentage_of_concensus_for_years_and_body(body, 2003, END)"
   ]
  },
  {
   "cell_type": "code",
   "execution_count": null,
   "id": "0f42cbc0-811d-4301-87fd-20ce4569963f",
   "metadata": {},
   "outputs": [],
   "source": [
    "print('Percentage of adopted without voting:\\n')\n",
    "percentage_of_concensus_for_body(SC)\n",
    "print('')\n",
    "percentage_of_concensus_for_body(GA)"
   ]
  },
  {
   "cell_type": "code",
   "execution_count": null,
   "id": "b858892a-b87e-42da-b67f-0e2b89c236f0",
   "metadata": {},
   "outputs": [],
   "source": [
    "# What is the average percentage of different vote types for resolutions that are voted on\n",
    "def to_percentage_of_vote_types(voting_data, target_vote_type):\n",
    "    voting_points = voting_data.split(';')\n",
    "    \n",
    "    votes_yes = 0\n",
    "    votes_total = len(voting_points)\n",
    "    \n",
    "    for voting_point in voting_points:\n",
    "        if voting_point[0] == target_vote_type:\n",
    "            votes_yes += 1\n",
    "    \n",
    "    return votes_yes * 100 / votes_total\n",
    "\n",
    "def percentage_of_yes_votes(body, target_vote_type, print_contentious = False):\n",
    "    df_wip = df[df_vds['Voting Data'] == 'Voted on']\n",
    "    df_wip = filter_body(df_wip, body)\n",
    "    \n",
    "    percentages = df_wip['Voting Data'].map(lambda v: to_percentage_of_vote_types(v, target_vote_type))\n",
    "    \n",
    "    avg_percentage = percentages.mean()\n",
    "    print(\"{}: Average percentage of vote type '{}': {}%\".format(body, target_vote_type, round(avg_percentage, 2)))\n",
    "    \n",
    "    if print_contentious:\n",
    "        min_percentage = percentages.min()\n",
    "        min_percentage_id = percentages.idxmin()\n",
    "        print(\"{}: Minimal percentage of vote type '{}': {}% for id {}\".format(body, target_vote_type, round(min_percentage, 2), min_percentage_id))\n",
    "                                                                               \n",
    "        percentage_contentious = percentages[percentages < 70].count() * 100 / percentages.count()\n",
    "        print(\"{}: Percentage of especially contentious resolutions: {}%\".format(body, round(percentage_contentious, 2)))\n",
    "    \n",
    "percentage_of_yes_votes(GA, 'Y', print_contentious=True)\n",
    "percentage_of_yes_votes(SC, 'Y', print_contentious=True)\n",
    "print('')\n",
    "percentage_of_yes_votes(GA, 'N')\n",
    "percentage_of_yes_votes(SC, 'N')\n",
    "print('')\n",
    "percentage_of_yes_votes(GA, 'A')\n",
    "percentage_of_yes_votes(SC, 'A')\n",
    "print('')\n",
    "percentage_of_yes_votes(GA, 'X')\n",
    "percentage_of_yes_votes(SC, 'X')"
   ]
  },
  {
   "cell_type": "code",
   "execution_count": null,
   "id": "527afe48-9e7f-426d-afb1-9f338caa8fe2",
   "metadata": {},
   "outputs": [],
   "source": [
    "# What were the most contentious resolutions adopted\n",
    "def to_effective_percentage_of_yes_votes(voting_data):\n",
    "    votes_yes = 0\n",
    "    votes_total = 0\n",
    "    \n",
    "    for voting_point in voting_data.split(';'):\n",
    "        if voting_point[0] == 'Y':\n",
    "            votes_yes += 1\n",
    "            votes_total += 1\n",
    "        \n",
    "        if voting_point[0] == 'N':\n",
    "            votes_total += 1\n",
    "\n",
    "    return votes_yes * 100 / votes_total\n",
    "\n",
    "def effective_percentage_of_yes_votes(body):\n",
    "    df_wip = df[df_vds['Voting Data'] == 'Voted on']\n",
    "    df_wip = filter_body(df_wip, body)\n",
    "    \n",
    "    percentages = df_wip['Voting Data'].map(to_effective_percentage_of_yes_votes)\n",
    "    \n",
    "    avg_percentage = percentages.mean()\n",
    "    print(\"{}: Average percentage of effective yes votes: {}%\".format(body, round(avg_percentage, 2)))\n",
    "    \n",
    "    percentage_contentious = percentages[percentages < 70].count() * 100 / percentages.count()\n",
    "    print(\"{}: Percentage of especially contentious resolutions: {}%\".format(body, round(percentage_contentious, 2)))\n",
    "    \n",
    "    percentage_not_contentious = percentages[percentages >= 90].count() * 100 / percentages.count()\n",
    "    print(\"{}: Percentage of non-contentious resolutions: {}%\".format(body, round(percentage_not_contentious, 2)))\n",
    "    \n",
    "    print('Most contentious votes:')\n",
    "    display(percentages.sort_values(ascending=True).head(10))\n",
    "    print('')\n",
    "    \n",
    "effective_percentage_of_yes_votes(GA)\n",
    "effective_percentage_of_yes_votes(SC)"
   ]
  },
  {
   "cell_type": "code",
   "execution_count": null,
   "id": "0eedbb0c-3932-4e73-9d6b-3806d53c9cd6",
   "metadata": {},
   "outputs": [],
   "source": [
    "# Number of YES votes per bracket\n",
    "def to_percentage_brackets(percentage):\n",
    "    bracket = round(percentage / 10)\n",
    "    start = (bracket - 1) * 10\n",
    "    end = bracket * 10\n",
    "    return \"{}-{}%\".format(start, end)\n",
    "\n",
    "def plot_percentage_of_yes_votes(body, effective):\n",
    "    df_wip = df[df_vds['Voting Data'] == 'Voted on']\n",
    "    df_wip = filter_body(df_wip, body)\n",
    "    \n",
    "    percentages = df_wip['Voting Data'].map(to_effective_percentage_of_yes_votes) if effective else df_wip['Voting Data'].map(lambda v: to_percentage_of_vote_types(v, 'Y'))\n",
    "    percentage_brackets = percentages.map(to_percentage_brackets).value_counts().sort_index()\n",
    "    \n",
    "    total = percentages.count()\n",
    "    percentage_brackets = percentage_brackets.map(lambda v: to_percentage(v, total))\n",
    "    \n",
    "    title = 'Percentage of' + (' Effective ' if effective else ' ') +  'YES votes in the ' + body\n",
    "    percentage_brackets.plot(kind='bar', title=title)"
   ]
  },
  {
   "cell_type": "code",
   "execution_count": null,
   "id": "95a26860-e47d-443c-a4aa-689422950576",
   "metadata": {},
   "outputs": [],
   "source": [
    "plot_percentage_of_yes_votes(GA, False)"
   ]
  },
  {
   "cell_type": "code",
   "execution_count": null,
   "id": "be3e7c83-c57b-441b-ad97-59e233c057a0",
   "metadata": {},
   "outputs": [],
   "source": [
    "plot_percentage_of_yes_votes(GA, True)"
   ]
  },
  {
   "cell_type": "code",
   "execution_count": null,
   "id": "ab11c8fb-86de-49e5-9ff6-c508c5a45172",
   "metadata": {},
   "outputs": [],
   "source": [
    "plot_percentage_of_yes_votes(SC, False)"
   ]
  },
  {
   "cell_type": "code",
   "execution_count": null,
   "id": "9cd88949-4dc6-4af2-ad64-d59dfa78d3c5",
   "metadata": {},
   "outputs": [],
   "source": [
    "plot_percentage_of_yes_votes(SC, True)"
   ]
  },
  {
   "cell_type": "code",
   "execution_count": null,
   "id": "7b6a1822-175c-4b4c-80c7-d1794e8b713f",
   "metadata": {},
   "outputs": [],
   "source": [
    "# Average percentage of yes votes through the years\n",
    "def average_percentage_of_yes_for_years_for_body(body, start_year, end_year, effective):\n",
    "    df_wip = df[df_vds['Voting Data'] == 'Voted on']\n",
    "    df_wip = filter(df_wip, body, start_year, end_year)\n",
    "    \n",
    "    percentages = df_wip['Voting Data'].map(to_effective_percentage_of_yes_votes) if effective else df_wip['Voting Data'].map(lambda v: to_percentage_of_vote_types(v, 'Y'))\n",
    "    average = percentages.mean()\n",
    "    \n",
    "    print(\"Period {}-{}: {}%\".format(start_year, end_year, round(average)))"
   ]
  },
  {
   "cell_type": "code",
   "execution_count": null,
   "id": "7d15a795-8991-467e-b445-a4942d441770",
   "metadata": {},
   "outputs": [],
   "source": [
    "def average_percentage_of_yes_for_body(body, effective):\n",
    "    print(body)\n",
    "    average_percentage_of_yes_for_years_for_body(body, START, 1955, effective)\n",
    "    average_percentage_of_yes_for_years_for_body(body, 1956, 1975, effective)\n",
    "    average_percentage_of_yes_for_years_for_body(body, 1976, 1990, effective)\n",
    "    average_percentage_of_yes_for_years_for_body(body, 1991, 2002, effective)\n",
    "    average_percentage_of_yes_for_years_for_body(body, 2003, END, effective)"
   ]
  },
  {
   "cell_type": "code",
   "execution_count": null,
   "id": "3288a870-28ca-4e25-b208-f60a9f4ceabf",
   "metadata": {},
   "outputs": [],
   "source": [
    "print('Average percentage of YES votes:\\n')\n",
    "average_percentage_of_yes_for_body(SC, False)\n",
    "print('')\n",
    "average_percentage_of_yes_for_body(GA, False)\n",
    "\n",
    "print('\\nAverage percentage of Effective YES votes:\\n')\n",
    "average_percentage_of_yes_for_body(SC, True)\n",
    "print('')\n",
    "average_percentage_of_yes_for_body(GA, True)"
   ]
  }
 ],
 "metadata": {
  "kernelspec": {
   "display_name": "Python 3 (ipykernel)",
   "language": "python",
   "name": "python3"
  },
  "language_info": {
   "codemirror_mode": {
    "name": "ipython",
    "version": 3
   },
   "file_extension": ".py",
   "mimetype": "text/x-python",
   "name": "python",
   "nbconvert_exporter": "python",
   "pygments_lexer": "ipython3",
   "version": "3.9.13"
  }
 },
 "nbformat": 4,
 "nbformat_minor": 5
}
