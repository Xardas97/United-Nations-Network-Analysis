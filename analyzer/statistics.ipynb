{
 "cells": [
  {
   "cell_type": "code",
   "execution_count": null,
   "id": "a3f5f7fd-b19a-4935-86a7-4d3c93b7cd89",
   "metadata": {},
   "outputs": [],
   "source": [
    "import calendar\n",
    "\n",
    "import pandas as pd\n",
    "import matplotlib.pyplot as plt"
   ]
  },
  {
   "cell_type": "code",
   "execution_count": null,
   "id": "87c939cf-fda0-47b4-aaea-c5a655cf1450",
   "metadata": {},
   "outputs": [],
   "source": [
    "# Helper constants\n",
    "GA = 'General Assembly'\n",
    "SC = 'Security Council'"
   ]
  },
  {
   "cell_type": "code",
   "execution_count": null,
   "id": "6eb78305-fa72-43de-80f6-0da292157aef",
   "metadata": {},
   "outputs": [],
   "source": [
    "# Load the all records table as the primary data frame\n",
    "records_path = \"../data/records.csv\"\n",
    "df = pd.read_csv(records_path, index_col='ID', keep_default_na=False)"
   ]
  },
  {
   "cell_type": "markdown",
   "id": "b3ee174b-a1bb-403e-93d7-b86d2c8a54e7",
   "metadata": {
    "jp-MarkdownHeadingCollapsed": true,
    "tags": []
   },
   "source": [
    "## Title"
   ]
  },
  {
   "cell_type": "code",
   "execution_count": null,
   "id": "f9ad4a82-6640-41e3-948a-fbf59acde306",
   "metadata": {},
   "outputs": [],
   "source": [
    "# Which titles appear most often\n",
    "df_title_counts = df[['Title']].value_counts()\n",
    "df_title_counts.head(5)"
   ]
  },
  {
   "cell_type": "code",
   "execution_count": null,
   "id": "ebb61039-055b-4922-8995-8efefb439769",
   "metadata": {},
   "outputs": [],
   "source": [
    "# Are resolutions with the same title all in a few years of each other?\n",
    "most_common_title = df_title_counts.index[0][0]\n",
    "df_most_common_title = df[df['Title'] == most_common_title]\n",
    "display(df_most_common_title.head(3))\n",
    "display(df_most_common_title.tail(3))"
   ]
  },
  {
   "cell_type": "markdown",
   "id": "e218c5c3-8dc1-44d3-9f7c-b39cdbb132ef",
   "metadata": {
    "jp-MarkdownHeadingCollapsed": true,
    "tags": []
   },
   "source": [
    "## Body"
   ]
  },
  {
   "cell_type": "code",
   "execution_count": null,
   "id": "dacb7d39-a26b-4f39-a061-f0bcce646d2d",
   "metadata": {},
   "outputs": [],
   "source": [
    "# How many % resolutions are in SC vs GA?\n",
    "df_body_counts = df[['Body']].value_counts()\n",
    "sc_percentage = df_body_counts[SC] * 100 / df.shape[0]\n",
    "ga_perctange = df_body_counts[GA] * 100 / df.shape[0]\n",
    "print('Resolutions by Security Council: ~' + str(round(sc_percentage)) + '%')\n",
    "print('Resolutions by General Assembly: ~' + str(round(ga_perctange)) + '%')"
   ]
  },
  {
   "cell_type": "markdown",
   "id": "ba8d7d9d-8e64-4adb-b306-c041324de020",
   "metadata": {
    "jp-MarkdownHeadingCollapsed": true,
    "tags": []
   },
   "source": [
    "## Dates"
   ]
  },
  {
   "cell_type": "code",
   "execution_count": null,
   "id": "07987ebe-b5af-4ce7-9819-d66f4d5fb182",
   "metadata": {},
   "outputs": [],
   "source": [
    "# Get DF for a body and, optionally, a given set of years\n",
    "\n",
    "def date_is_between(date, start_year, end_year):\n",
    "    return date.str[0:4].astype(int).between(start_year, end_year)\n",
    "\n",
    "def filter_by_year(df, body, start_year, end_year):\n",
    "    return df[(df['Body'] == body) & (date_is_between(df['Date'], start_year, end_year))]\n",
    "\n",
    "def filter(df, body):\n",
    "    return df[df['Body'] == body]"
   ]
  },
  {
   "cell_type": "code",
   "execution_count": null,
   "id": "3983455e-2ec0-4843-a18c-52544f31dc39",
   "metadata": {
    "tags": []
   },
   "outputs": [],
   "source": [
    "# Which dates were the most productive for either chamber\n",
    "def count_resolutions_per_date(body):\n",
    "    print(body)\n",
    "    df_date_counts = df[df['Body'] == body][['Date']].value_counts()\n",
    "    display(df_date_counts.head(5))\n",
    "\n",
    "count_resolutions_per_date(SC)\n",
    "print('')\n",
    "count_resolutions_per_date(GA)"
   ]
  },
  {
   "cell_type": "code",
   "execution_count": null,
   "id": "4d9dc17c-f344-4fbe-b70d-2a73f432924f",
   "metadata": {},
   "outputs": [],
   "source": [
    "# Were there dates with only one resolution adopted?\n",
    "df_date_counts = df[['Date']].value_counts()\n",
    "df_date_counts.tail(5)"
   ]
  },
  {
   "cell_type": "code",
   "execution_count": null,
   "id": "f9f2f22f-7319-40cd-b688-1a77bb5fce25",
   "metadata": {},
   "outputs": [],
   "source": [
    "# Investigate the most productive dates\n",
    "def analyze_most_productive_date(body):\n",
    "    print(body)\n",
    "    \n",
    "    df = filter(df, body)\n",
    "    dates_by_productivity = df[['Date']].value_counts()\n",
    "    \n",
    "    most_productive_date = dates_by_productivity.index[0][0]\n",
    "    most_productive_date_count = dates_by_productivity[most_productive_date]\n",
    "\n",
    "    most_productive_date_year = most_productive_date[0:4]\n",
    "    most_productive_date_year_count = df[df['Date'].str.startswith(most_productive_date_year)].shape[0]\n",
    "\n",
    "    most_productive_date_percantage_in_its_year = most_productive_date_count * 100 / most_productive_date_year_count\n",
    "\n",
    "    print('Most productive date: ' + str(most_productive_date))\n",
    "    print('During this date a total of ' + str(most_productive_date_count) + ' resolutions were adopted')\n",
    "    print('During that year a total of ' + str(most_productive_date_year_count) + ' resolutions were adopted')\n",
    "    print('That is ~' + str(round(most_productive_date_percantage_in_its_year)) + '% of all resolutions for that year')\n",
    "\n",
    "analyze_most_productive_date(SC)\n",
    "print('-------------------------------------')\n",
    "analyze_most_productive_date(GA)"
   ]
  },
  {
   "cell_type": "code",
   "execution_count": null,
   "id": "4a0cfd0e-5de7-422e-91f6-a2d4a609eb38",
   "metadata": {
    "tags": []
   },
   "outputs": [],
   "source": [
    "# How many dates in each year had resolutions held\n",
    "def analyze_active_dates_per_year(body):\n",
    "    print(body)\n",
    "    df_body = filter(df, body)\n",
    "    \n",
    "    year_activity = {}\n",
    "    for year in range(1946, 2024): #ignore current year, it's not complete\n",
    "        days_in_year = 365 + calendar.isleap(year)\n",
    "        df_year = df_body[df_body['Date'].str.startswith(str(year))]\n",
    "        \n",
    "        active_dates = len(df_year['Date'].unique())\n",
    "        active_percentage = active_dates * 100 / days_in_year\n",
    "        \n",
    "        year_activity[year] = active_percentage\n",
    "    \n",
    "    most_active_year = max(year_activity, key=year_activity.get)\n",
    "    most_activity = year_activity[most_active_year]\n",
    "    print('Most active year ' + str(most_active_year) + ' had ' + str(round(most_activity)) + '% activity')\n",
    "    \n",
    "    least_active_year = min(year_activity, key=year_activity.get)\n",
    "    least_activity = year_activity[least_active_year]\n",
    "    print('Least active year ' + str(least_active_year) + ' had ' + str(round(least_activity)) + '% activity')\n",
    "\n",
    "analyze_active_dates_per_year(SC)\n",
    "print('-------------------------------------')\n",
    "analyze_active_dates_per_year(GA)"
   ]
  },
  {
   "cell_type": "code",
   "execution_count": null,
   "id": "35e8160f-3439-45e3-855e-1a91d2da5f24",
   "metadata": {},
   "outputs": [],
   "source": [
    "# What's the average amount of adoptions in an active day?\n",
    "def date_is_between(date, start_year, end_year):\n",
    "    return date.str[0:4].astype(int).between(start_year, end_year)\n",
    "\n",
    "def analyze_average_activity(body, start_year, end_year):\n",
    "    print(body + \" average adoptions for years [{}, {}]\".format(start_year, end_year))\n",
    "    \n",
    "    df = df[(df['Body'] == body) & (date_is_between(df['Date'], start_year, end_year))]\n",
    "    resolutions_per_date = df[['Date']].value_counts()\n",
    "    print('Total adoptiops in that period: ' + str(df.shape[0]))\n",
    "    print('Average resolutions adopted: ' + str(resolutions_per_date.mean()))\n",
    "    print('Median resolutions adopted: ' + str(resolutions_per_date.median()))\n",
    "    print('')\n",
    "\n",
    "analyze_average_activity(SC, 1946, 2023)\n",
    "analyze_average_activity(GA, 1946, 2023)"
   ]
  },
  {
   "cell_type": "code",
   "execution_count": null,
   "id": "977f21f3-fddd-4011-b5db-4c0a5a118383",
   "metadata": {},
   "outputs": [],
   "source": [
    "# How does the average amount of adoptions change over the years?\n",
    "\n",
    "def analyze_average_activity_per_year(body):\n",
    "    analyze_average_activity(body, 1946, 1965)\n",
    "    analyze_average_activity(body, 1966, 1985)\n",
    "    analyze_average_activity(body, 1986, 2005)\n",
    "    analyze_average_activity(body, 2006, 2023)\n",
    "\n",
    "analyze_average_activity_per_year(SC)\n",
    "print('-------------------------------------')\n",
    "analyze_average_activity_per_year(GA)"
   ]
  },
  {
   "cell_type": "code",
   "execution_count": null,
   "id": "fee79dee-c579-479c-bb32-25bce9486fb5",
   "metadata": {},
   "outputs": [],
   "source": [
    "# Plot the number of resolutions per year\n",
    "def date_to_year(date):\n",
    "    return int(date[0:4])\n",
    "\n",
    "def plot_resolutions_per_year(body):\n",
    "    df_body = filter(df, body)\n",
    "    resolutions_per_year = df_body['Date'].map(date_to_year).value_counts(sort=False)\n",
    "    resolutions_per_year = resolutions_per_year.drop(labels = [2024])\n",
    "    resolutions_per_year.plot(title=body)\n",
    "\n",
    "plot_resolutions_per_year(GA)"
   ]
  },
  {
   "cell_type": "code",
   "execution_count": null,
   "id": "0bb13e1c-cb62-49f3-a987-364287ae55c8",
   "metadata": {},
   "outputs": [],
   "source": [
    "plot_resolutions_per_year(SC)"
   ]
  }
 ],
 "metadata": {
  "kernelspec": {
   "display_name": "Python 3 (ipykernel)",
   "language": "python",
   "name": "python3"
  },
  "language_info": {
   "codemirror_mode": {
    "name": "ipython",
    "version": 3
   },
   "file_extension": ".py",
   "mimetype": "text/x-python",
   "name": "python",
   "nbconvert_exporter": "python",
   "pygments_lexer": "ipython3",
   "version": "3.9.13"
  }
 },
 "nbformat": 4,
 "nbformat_minor": 5
}
