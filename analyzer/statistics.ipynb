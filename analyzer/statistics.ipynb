{
 "cells": [
  {
   "cell_type": "code",
   "execution_count": null,
   "id": "87c939cf-fda0-47b4-aaea-c5a655cf1450",
   "metadata": {},
   "outputs": [],
   "source": [
    "import pandas as pd"
   ]
  },
  {
   "cell_type": "code",
   "execution_count": null,
   "id": "6eb78305-fa72-43de-80f6-0da292157aef",
   "metadata": {},
   "outputs": [],
   "source": [
    "records_1946_path = \"../data/records-1946.csv\"\n",
    "records_1946 = pd.read_csv(records_1946_path)\n",
    "display(records_1946)"
   ]
  },
  {
   "cell_type": "code",
   "execution_count": null,
   "id": "5645842c-b8de-4c25-9e6e-9e0f54cb70da",
   "metadata": {},
   "outputs": [],
   "source": []
  }
 ],
 "metadata": {
  "kernelspec": {
   "display_name": "Python 3 (ipykernel)",
   "language": "python",
   "name": "python3"
  },
  "language_info": {
   "codemirror_mode": {
    "name": "ipython",
    "version": 3
   },
   "file_extension": ".py",
   "mimetype": "text/x-python",
   "name": "python",
   "nbconvert_exporter": "python",
   "pygments_lexer": "ipython3",
   "version": "3.9.13"
  }
 },
 "nbformat": 4,
 "nbformat_minor": 5
}
